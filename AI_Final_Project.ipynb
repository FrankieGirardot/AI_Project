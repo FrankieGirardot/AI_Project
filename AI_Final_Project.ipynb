{
 "cells": [
  {
   "cell_type": "code",
   "execution_count": 54,
   "metadata": {},
   "outputs": [],
   "source": [
    "import numpy as np\n",
    "import pandas as pd\n",
    "import matplotlib.pyplot as plt\n",
    "import csv\n",
    "import torch\n",
    "import torch.nn as nn\n",
    "import tensorflow as tf\n",
    "\n",
    "from tensorflow.python.client import device_lib\n",
    "from tensorflow import keras\n",
    "from torchvision import models\n",
    "\n",
    "from keras.layers import Dense\n",
    "from keras.layers import BatchNormalization\n",
    "from keras.layers import Dropout\n",
    "from keras.layers import Conv2D, MaxPooling2D, Flatten\n",
    "from keras import backend as K\n",
    "from keras.callbacks import EarlyStopping as ES\n",
    "from keras.callbacks import ModelCheckpoint\n",
    "from keras.applications import VGG16\n",
    "from tensorflow.keras.layers import Flatten\n",
    "from tensorflow.keras.layers import Input\n",
    "from tensorflow.keras.models import Model\n",
    "from tensorflow.keras.optimizers import Adam\n",
    "from keras.metrics import MeanIoU\n",
    "\n",
    "from sklearn.model_selection import train_test_split"
   ]
  },
  {
   "cell_type": "code",
   "execution_count": 55,
   "metadata": {},
   "outputs": [],
   "source": [
    "# The German Traffic Sign Recognition Benchmark\n",
    "#\n",
    "# sample code for reading the traffic sign images and the\n",
    "# corresponding labels\n",
    "#\n",
    "# example:\n",
    "#            \n",
    "# trainImages, trainLabels = readTrafficSigns('GTSRB/Training')\n",
    "# print len(trainLabels), len(trainImages)\n",
    "# plt.imshow(trainImages[42])\n",
    "# plt.show()\n",
    "#\n",
    "# have fun, Christian\n",
    "\n",
    "# function for reading the images\n",
    "# arguments: path to the traffic sign data, for example './GTSRB/Training'\n",
    "# returns: list of images, list of corresponding labels \n",
    "def readTrafficSigns(rootpath):\n",
    "    '''Reads traffic sign data for German Traffic Sign Recognition Benchmark.\n",
    "\n",
    "    Arguments: path to the traffic sign data, for example './GTSRB/Training'\n",
    "    Returns:   list of images, list of corresponding labels'''\n",
    "    images = [] # images\n",
    "    boundary = []\n",
    "    labels = [] # corresponding labels\n",
    "    # loop over all 42 classes\n",
    "    for c in range(0,43):\n",
    "        prefix = rootpath + '/' + format(c, '05d') + '/' # subdirectory for class\n",
    "        gtFile = open(prefix + 'GT-'+ format(c, '05d') + '.csv') # annotations file\n",
    "        gtReader = csv.reader(gtFile, delimiter=';') # csv parser for annotations file\n",
    "        next(gtReader) # skip header\n",
    "        # loop over all images in current annotations file\n",
    "        for row in gtReader:\n",
    "            images.append(plt.imread(prefix + row[0])) # the 1th column is the filename\n",
    "            labels.append(row[7]) # the 8th column is the label\n",
    "            boundary.append(row[3:7])\n",
    "        gtFile.close()\n",
    "    return images, boundary, labels\n"
   ]
  },
  {
   "cell_type": "code",
   "execution_count": 56,
   "metadata": {},
   "outputs": [],
   "source": [
    "\n",
    "train_Examples, train_boundary, train_labels = readTrafficSigns('C:/Users/frank/Documents/AI Project/GTSRB/Final_Training/Images')\n",
    "\n",
    "train_Examples = np.asarray(train_Examples)\n",
    "train_boundary = np.asarray(train_boundary)\n",
    "train_labels = np.asarray(train_labels)"
   ]
  },
  {
   "cell_type": "code",
   "execution_count": 57,
   "metadata": {},
   "outputs": [
    {
     "data": {
      "image/png": "[encoded data removed]",
      "text/plain": [
       "<Figure size 432x288 with 1 Axes>"
      ]
     },
     "metadata": {
      "needs_background": "light"
     },
     "output_type": "display_data"
    }
   ],
   "source": [
    "lb = train_labels.astype(np.int)\n",
    "unique, counts = np.unique(lb, return_counts=True)\n",
    "plt.bar(unique, counts)\n",
    "plt.xticks(np.arange(43, step = 5))\n",
    "plt.show()"
   ]
  },
  {
   "cell_type": "code",
   "execution_count": 58,
   "metadata": {},
   "outputs": [],
   "source": [
    "#Process the data, we are only interested in images that are lass than 101 pixels wide and tall\n",
    "count = 0\n",
    "for i in range(len(train_Examples)):\n",
    "    rows, columns, rgb = train_Examples[i].shape\n",
    "    if rows < 101 and columns < 101:\n",
    "        count+=1\n",
    "\n",
    "data = np.zeros((count,100,100,3), dtype=int)\n",
    "\n",
    "iterator = 0\n",
    "\n",
    "for i in range(len(train_Examples)):\n",
    "    \n",
    "    rows,columns,rgb = train_Examples[i].shape\n",
    "    \n",
    "    value = train_Examples[i]\n",
    "    \n",
    "    if rows < 101 and columns < 101:\n",
    "    \n",
    "        for j in range(rows):\n",
    "        \n",
    "            for n in range(columns):\n",
    "            \n",
    "                for k in range(rgb):\n",
    "                    data[iterator,j,n,k] = value[j,n,k]\n",
    "                    #print(value[j,n,k])\n",
    "        iterator += 1\n",
    "        \n",
    "labels = np.zeros((count,1))\n",
    "boundary = np.zeros((count,4))\n",
    "\n",
    "iterator = 0\n",
    "\n",
    "for i in range(len(train_Examples)):\n",
    "    x = train_Examples[i]\n",
    "    row,column,rgb = x.shape\n",
    "    \n",
    "    if row < 101 and column < 101:\n",
    "        labels[iterator,0] = train_labels[i]\n",
    "        boundary[iterator, 0] = int(train_boundary[i,0])/100 #divide by 100 to put it in range of the sigmoid function\n",
    "        boundary[iterator, 1] = int(train_boundary[i,1])/100\n",
    "        boundary[iterator, 2] = int(train_boundary[i,2])/100\n",
    "        boundary[iterator, 3] = int(train_boundary[i,3])/100\n",
    "        iterator += 1\n",
    "        \n",
    "n_classes = 43\n",
    "\n",
    "denseTrainData = data.reshape(count, 100*100*3).astype('float32')\n",
    "\n",
    "categoricalLabels = keras.utils.to_categorical(labels, n_classes)\n"
   ]
  },
  {
   "cell_type": "code",
   "execution_count": 53,
   "metadata": {},
   "outputs": [
    {
     "data": {
      "text/plain": [
       "<function matplotlib.pyplot.show(*args, **kw)>"
      ]
     },
     "execution_count": 53,
     "metadata": {},
     "output_type": "execute_result"
    },
    {
     "data": {
      "image/png": "[encoded data removed]",
      "text/plain": [
       "<Figure size 432x288 with 1 Axes>"
      ]
     },
     "metadata": {
      "needs_background": "light"
     },
     "output_type": "display_data"
    }
   ],
   "source": [
    "fig,ax = plt.subplots(1)\n",
    "\n",
    "img = data[100][:][:][:][:]\n",
    "    \n",
    "ax.imshow(img)\n",
    "\n",
    "plt.show"
   ]
  },
  {
   "cell_type": "code",
   "execution_count": 59,
   "metadata": {},
   "outputs": [],
   "source": [
    "class EarlyStoppingAtMinLoss(keras.callbacks.Callback):\n",
    "    \"\"\"Stop training when the loss is at its min, i.e. the loss stops decreasing.\n",
    "\n",
    "  Arguments:\n",
    "      patience: Number of epochs to wait after min has been hit. After this\n",
    "      number of no improvement, training stops.\n",
    "  \"\"\"\n",
    "\n",
    "    def __init__(self, patience=5):\n",
    "        super(EarlyStoppingAtMinLoss, self).__init__()\n",
    "        self.patience = patience\n",
    "        # best_weights to store the weights at which the minimum loss occurs.\n",
    "        self.best_weights = None\n",
    "\n",
    "    def on_train_begin(self, logs=None):\n",
    "        # The number of epoch it has waited when loss is no longer minimum.\n",
    "        self.wait = 0\n",
    "        # The epoch the training stops at.\n",
    "        self.stopped_epoch = 0\n",
    "        # Initialize the best as infinity.\n",
    "        self.best = np.Inf\n",
    "\n",
    "    def on_epoch_end(self, epoch, logs=None):\n",
    "        current = logs.get(\"loss\")\n",
    "        if np.less(current, self.best):\n",
    "            self.best = current\n",
    "            self.wait = 0\n",
    "            # Record the best weights if current results is better (less).\n",
    "            self.best_weights = self.model.get_weights()\n",
    "        else:\n",
    "            self.wait += 1\n",
    "            if self.wait >= self.patience:\n",
    "                self.stopped_epoch = epoch\n",
    "                self.model.stop_training = True\n",
    "                print(\"Restoring model weights from the end of the best epoch.\")\n",
    "                self.model.set_weights(self.best_weights)\n",
    "\n",
    "    def on_train_end(self, logs=None):\n",
    "        if self.stopped_epoch > 0:\n",
    "            print(\"Epoch %05d: early stopping\" % (self.stopped_epoch + 1))"
   ]
  },
  {
   "cell_type": "code",
   "execution_count": 60,
   "metadata": {},
   "outputs": [],
   "source": [
    "#Split data for the dense models\n",
    "x_train, x_valid, y_train, y_valid = train_test_split(denseTrainData, categoricalLabels, test_size=0.2, shuffle= True)\n",
    "x_trainBB, x_validBB, y_trainBB, y_validBB = train_test_split(denseTrainData, boundary, test_size=0.2, shuffle= True)"
   ]
  },
  {
   "cell_type": "code",
   "execution_count": 61,
   "metadata": {},
   "outputs": [],
   "source": [
    "n_classes = 43\n",
    "\n",
    "denseClassifier = keras.Sequential()\n",
    "denseClassifier.add(Dense(128, activation='relu', input_shape=(100*100*3,)))\n",
    "denseClassifier.add(BatchNormalization())\n",
    "denseClassifier.add(Dense(128, activation='relu'))\n",
    "denseClassifier.add(BatchNormalization())\n",
    "denseClassifier.add(Dropout(0.5))\n",
    "denseClassifier.add(Dense(128, activation='relu'))\n",
    "denseClassifier.add(BatchNormalization())\n",
    "denseClassifier.add(Dropout(0.5))\n",
    "denseClassifier.add(Dense(128, activation='relu'))\n",
    "denseClassifier.add(BatchNormalization())\n",
    "denseClassifier.add(Dense(n_classes, activation='softmax'))"
   ]
  },
  {
   "cell_type": "code",
   "execution_count": 62,
   "metadata": {},
   "outputs": [],
   "source": [
    "denseBB = keras.Sequential()\n",
    "denseBB.add(Dense(128, activation='relu', input_shape=(100*100*3,)))\n",
    "denseBB.add(BatchNormalization())\n",
    "denseBB.add(Dense(64, activation='relu'))\n",
    "denseBB.add(BatchNormalization())\n",
    "denseBB.add(Dropout(0.5))\n",
    "denseBB.add(Dense(32, activation='relu'))\n",
    "denseBB.add(BatchNormalization())\n",
    "denseBB.add(Dropout(0.5))\n",
    "denseBB.add(Dense(128, activation='relu'))\n",
    "denseBB.add(BatchNormalization())\n",
    "denseBB.add(Dense(4, activation='sigmoid'))"
   ]
  },
  {
   "cell_type": "code",
   "execution_count": 63,
   "metadata": {},
   "outputs": [],
   "source": [
    "#Hyper Parameters\n",
    "denseOpt = keras.optimizers.Adam(learning_rate=0.001)\n",
    "BBopt = keras.optimizers.Adam(learning_rate=0.0001)\n",
    "\n",
    "loss_Dense = 'categorical_crossentropy'\n",
    "loss_BB = 'mse'\n",
    "\n",
    "#Compile Model\n",
    "\n",
    "denseClassifier.compile(loss=loss_Dense,optimizer=denseOpt,metrics=['accuracy'])\n",
    "denseBB.compile(loss=loss_BB,optimizer=BBopt,metrics=['mse'])\n"
   ]
  },
  {
   "cell_type": "code",
   "execution_count": 64,
   "metadata": {},
   "outputs": [],
   "source": [
    "DenseBBMC = ModelCheckpoint('C:/Users/frank/Documents/AI Project/DenseModelBB.h5', monitor='val_loss')\n",
    "DenseClassifierMC = ModelCheckpoint('C:/Users/frank/Documents/AI Project/DenseModelLastMinute.h5', monitor='val_loss')"
   ]
  },
  {
   "cell_type": "code",
   "execution_count": 98,
   "metadata": {},
   "outputs": [
    {
     "name": "stdout",
     "output_type": "stream",
     "text": [
      "Epoch 1/100\n",
      "232/232 [==============================] - 6s 26ms/step - loss: 0.1182 - mse: 0.1182 - val_loss: 0.0643 - val_mse: 0.0643\n",
      "Epoch 2/100\n",
      "232/232 [==============================] - 6s 25ms/step - loss: 0.0754 - mse: 0.0754 - val_loss: 0.0363 - val_mse: 0.0363\n",
      "Epoch 3/100\n",
      "232/232 [==============================] - 6s 25ms/step - loss: 0.0479 - mse: 0.0479 - val_loss: 0.0292 - val_mse: 0.0292\n",
      "Epoch 4/100\n",
      "232/232 [==============================] - 6s 25ms/step - loss: 0.0336 - mse: 0.0336 - val_loss: 0.0184 - val_mse: 0.0184\n",
      "Epoch 5/100\n",
      "232/232 [==============================] - 6s 25ms/step - loss: 0.0256 - mse: 0.0256 - val_loss: 0.0137 - val_mse: 0.0137\n",
      "Epoch 6/100\n",
      "232/232 [==============================] - 6s 26ms/step - loss: 0.0208 - mse: 0.0208 - val_loss: 0.0113 - val_mse: 0.0113\n",
      "Epoch 7/100\n",
      "232/232 [==============================] - 6s 25ms/step - loss: 0.0182 - mse: 0.0182 - val_loss: 0.0117 - val_mse: 0.0117\n",
      "Epoch 8/100\n",
      "232/232 [==============================] - 6s 25ms/step - loss: 0.0151 - mse: 0.0151 - val_loss: 0.0078 - val_mse: 0.0078\n",
      "Epoch 9/100\n",
      "232/232 [==============================] - 6s 25ms/step - loss: 0.0139 - mse: 0.0139 - val_loss: 0.0072 - val_mse: 0.0072\n",
      "Epoch 10/100\n",
      "232/232 [==============================] - 6s 25ms/step - loss: 0.0125 - mse: 0.0125 - val_loss: 0.0061 - val_mse: 0.0061\n",
      "Epoch 11/100\n",
      "232/232 [==============================] - 6s 26ms/step - loss: 0.0113 - mse: 0.0113 - val_loss: 0.0054 - val_mse: 0.0054\n",
      "Epoch 12/100\n",
      "232/232 [==============================] - 6s 25ms/step - loss: 0.0104 - mse: 0.0104 - val_loss: 0.0058 - val_mse: 0.0058\n",
      "Epoch 13/100\n",
      "232/232 [==============================] - 6s 25ms/step - loss: 0.0093 - mse: 0.0093 - val_loss: 0.0049 - val_mse: 0.0049\n",
      "Epoch 14/100\n",
      "232/232 [==============================] - 6s 25ms/step - loss: 0.0080 - mse: 0.0080 - val_loss: 0.0038 - val_mse: 0.0038\n",
      "Epoch 15/100\n",
      "232/232 [==============================] - 6s 25ms/step - loss: 0.0044 - mse: 0.0044 - val_loss: 0.0018 - val_mse: 0.0018\n",
      "Epoch 16/100\n",
      "232/232 [==============================] - 6s 25ms/step - loss: 0.0030 - mse: 0.0030 - val_loss: 0.0017 - val_mse: 0.0017\n",
      "Epoch 17/100\n",
      "232/232 [==============================] - 6s 25ms/step - loss: 0.0027 - mse: 0.0027 - val_loss: 0.0012 - val_mse: 0.0012\n",
      "Epoch 18/100\n",
      "232/232 [==============================] - 6s 25ms/step - loss: 0.0025 - mse: 0.0025 - val_loss: 0.0012 - val_mse: 0.0012\n",
      "Epoch 19/100\n",
      "232/232 [==============================] - 6s 25ms/step - loss: 0.0024 - mse: 0.0024 - val_loss: 0.0012 - val_mse: 0.0012\n",
      "Epoch 20/100\n",
      "232/232 [==============================] - 6s 24ms/step - loss: 0.0022 - mse: 0.0022 - val_loss: 0.0011 - val_mse: 0.0011\n",
      "Epoch 21/100\n",
      "232/232 [==============================] - 6s 25ms/step - loss: 0.0022 - mse: 0.0022 - val_loss: 0.0012 - val_mse: 0.0012\n",
      "Epoch 22/100\n",
      "232/232 [==============================] - 6s 25ms/step - loss: 0.0021 - mse: 0.0021 - val_loss: 0.0011 - val_mse: 0.0011\n",
      "Epoch 23/100\n",
      "232/232 [==============================] - 6s 24ms/step - loss: 0.0020 - mse: 0.0020 - val_loss: 0.0011 - val_mse: 0.0011\n",
      "Epoch 24/100\n",
      "232/232 [==============================] - 6s 25ms/step - loss: 0.0020 - mse: 0.0020 - val_loss: 0.0010 - val_mse: 0.0010\n",
      "Epoch 25/100\n",
      "232/232 [==============================] - 6s 24ms/step - loss: 0.0019 - mse: 0.0019 - val_loss: 9.9113e-04 - val_mse: 9.9113e-04\n",
      "Epoch 26/100\n",
      "232/232 [==============================] - 6s 25ms/step - loss: 0.0018 - mse: 0.0018 - val_loss: 0.0011 - val_mse: 0.0011\n",
      "Epoch 27/100\n",
      "232/232 [==============================] - 6s 24ms/step - loss: 0.0017 - mse: 0.0017 - val_loss: 9.3602e-04 - val_mse: 9.3602e-04\n",
      "Epoch 28/100\n",
      "232/232 [==============================] - 6s 24ms/step - loss: 0.0017 - mse: 0.0017 - val_loss: 9.2271e-04 - val_mse: 9.2271e-04\n",
      "Epoch 29/100\n",
      "232/232 [==============================] - 6s 24ms/step - loss: 0.0017 - mse: 0.0017 - val_loss: 9.2382e-04 - val_mse: 9.2382e-04\n",
      "Epoch 30/100\n",
      "232/232 [==============================] - 6s 24ms/step - loss: 0.0016 - mse: 0.0016 - val_loss: 0.0011 - val_mse: 0.0011\n",
      "Epoch 31/100\n",
      "232/232 [==============================] - 6s 24ms/step - loss: 0.0015 - mse: 0.0015 - val_loss: 8.7697e-04 - val_mse: 8.7697e-04\n",
      "Epoch 32/100\n",
      "232/232 [==============================] - 6s 24ms/step - loss: 0.0015 - mse: 0.0015 - val_loss: 9.6528e-04 - val_mse: 9.6528e-04\n",
      "Epoch 33/100\n",
      "232/232 [==============================] - 6s 24ms/step - loss: 0.0015 - mse: 0.0015 - val_loss: 8.7215e-04 - val_mse: 8.7215e-04\n",
      "Epoch 34/100\n",
      "232/232 [==============================] - 6s 24ms/step - loss: 0.0014 - mse: 0.0014 - val_loss: 9.6374e-04 - val_mse: 9.6374e-04\n",
      "Epoch 35/100\n",
      "232/232 [==============================] - 6s 24ms/step - loss: 0.0014 - mse: 0.0014 - val_loss: 0.0010 - val_mse: 0.0010\n",
      "Epoch 36/100\n",
      "232/232 [==============================] - 6s 24ms/step - loss: 0.0014 - mse: 0.0014 - val_loss: 9.4012e-04 - val_mse: 9.4012e-04\n",
      "Epoch 37/100\n",
      "232/232 [==============================] - 6s 25ms/step - loss: 0.0013 - mse: 0.0013 - val_loss: 8.4310e-04 - val_mse: 8.4310e-04\n",
      "Epoch 38/100\n",
      "232/232 [==============================] - 6s 24ms/step - loss: 0.0013 - mse: 0.0013 - val_loss: 8.7028e-04 - val_mse: 8.7028e-04\n",
      "Epoch 39/100\n",
      "232/232 [==============================] - 6s 24ms/step - loss: 0.0012 - mse: 0.0012 - val_loss: 8.4898e-04 - val_mse: 8.4898e-04\n",
      "Epoch 40/100\n",
      "232/232 [==============================] - 6s 25ms/step - loss: 0.0012 - mse: 0.0012 - val_loss: 8.4854e-04 - val_mse: 8.4854e-04\n",
      "Epoch 41/100\n",
      "232/232 [==============================] - 6s 24ms/step - loss: 0.0012 - mse: 0.0012 - val_loss: 7.4367e-04 - val_mse: 7.4367e-04\n",
      "Epoch 42/100\n",
      "232/232 [==============================] - 6s 25ms/step - loss: 0.0012 - mse: 0.0012 - val_loss: 7.7694e-04 - val_mse: 7.7694e-04\n",
      "Epoch 43/100\n",
      "232/232 [==============================] - 6s 25ms/step - loss: 0.0011 - mse: 0.0011 - val_loss: 7.3671e-04 - val_mse: 7.3671e-04\n",
      "Epoch 44/100\n",
      "232/232 [==============================] - 6s 25ms/step - loss: 0.0011 - mse: 0.0011 - val_loss: 7.4384e-04 - val_mse: 7.4384e-04\n",
      "Epoch 45/100\n",
      "232/232 [==============================] - 6s 24ms/step - loss: 0.0011 - mse: 0.0011 - val_loss: 7.5533e-04 - val_mse: 7.5533e-04\n",
      "Epoch 46/100\n",
      "232/232 [==============================] - 6s 24ms/step - loss: 0.0011 - mse: 0.0011 - val_loss: 6.7401e-04 - val_mse: 6.7401e-04\n",
      "Epoch 47/100\n",
      "232/232 [==============================] - 6s 24ms/step - loss: 0.0010 - mse: 0.0010 - val_loss: 7.1780e-04 - val_mse: 7.1780e-04\n",
      "Epoch 48/100\n",
      "232/232 [==============================] - 6s 24ms/step - loss: 0.0010 - mse: 0.0010 - val_loss: 7.2347e-04 - val_mse: 7.2347e-04\n",
      "Epoch 49/100\n",
      "232/232 [==============================] - 6s 24ms/step - loss: 9.8977e-04 - mse: 9.8977e-04 - val_loss: 6.7461e-04 - val_mse: 6.7461e-04\n",
      "Epoch 50/100\n",
      "232/232 [==============================] - 6s 24ms/step - loss: 9.8067e-04 - mse: 9.8067e-04 - val_loss: 6.9932e-04 - val_mse: 6.9932e-04\n",
      "Epoch 51/100\n",
      "232/232 [==============================] - 6s 24ms/step - loss: 9.7259e-04 - mse: 9.7259e-04 - val_loss: 6.3439e-04 - val_mse: 6.3439e-04\n",
      "Epoch 52/100\n",
      "232/232 [==============================] - 6s 24ms/step - loss: 9.8068e-04 - mse: 9.8068e-04 - val_loss: 7.6580e-04 - val_mse: 7.6580e-04\n",
      "Epoch 53/100\n",
      "232/232 [==============================] - 6s 24ms/step - loss: 9.2585e-04 - mse: 9.2585e-04 - val_loss: 6.6408e-04 - val_mse: 6.6408e-04\n",
      "Epoch 54/100\n",
      "232/232 [==============================] - 6s 24ms/step - loss: 8.9493e-04 - mse: 8.9493e-04 - val_loss: 5.2427e-04 - val_mse: 5.2427e-04\n",
      "Epoch 55/100\n",
      "232/232 [==============================] - 6s 24ms/step - loss: 8.8021e-04 - mse: 8.8021e-04 - val_loss: 6.2502e-04 - val_mse: 6.2502e-04\n",
      "Epoch 56/100\n",
      "232/232 [==============================] - 6s 25ms/step - loss: 8.8583e-04 - mse: 8.8583e-04 - val_loss: 5.8835e-04 - val_mse: 5.8835e-04\n",
      "Epoch 57/100\n",
      "232/232 [==============================] - 6s 25ms/step - loss: 8.6827e-04 - mse: 8.6827e-04 - val_loss: 6.1979e-04 - val_mse: 6.1979e-04\n",
      "Epoch 58/100\n",
      "232/232 [==============================] - 6s 24ms/step - loss: 8.3695e-04 - mse: 8.3695e-04 - val_loss: 5.0907e-04 - val_mse: 5.0907e-04\n",
      "Epoch 59/100\n",
      "232/232 [==============================] - 6s 24ms/step - loss: 8.2594e-04 - mse: 8.2594e-04 - val_loss: 5.9488e-04 - val_mse: 5.9488e-04\n",
      "Epoch 60/100\n",
      "232/232 [==============================] - 6s 25ms/step - loss: 7.9807e-04 - mse: 7.9807e-04 - val_loss: 6.2966e-04 - val_mse: 6.2966e-04\n",
      "Epoch 61/100\n",
      "232/232 [==============================] - 6s 24ms/step - loss: 7.6795e-04 - mse: 7.6795e-04 - val_loss: 4.2581e-04 - val_mse: 4.2581e-04\n",
      "Epoch 62/100\n",
      "232/232 [==============================] - 6s 25ms/step - loss: 7.8339e-04 - mse: 7.8339e-04 - val_loss: 4.9964e-04 - val_mse: 4.9964e-04\n",
      "Epoch 63/100\n",
      "232/232 [==============================] - 6s 24ms/step - loss: 7.8018e-04 - mse: 7.8018e-04 - val_loss: 4.6588e-04 - val_mse: 4.6588e-04\n",
      "Epoch 64/100\n",
      "232/232 [==============================] - 6s 25ms/step - loss: 7.4848e-04 - mse: 7.4848e-04 - val_loss: 4.7310e-04 - val_mse: 4.7310e-04\n",
      "Epoch 65/100\n",
      "232/232 [==============================] - 6s 25ms/step - loss: 7.6263e-04 - mse: 7.6263e-04 - val_loss: 5.2302e-04 - val_mse: 5.2302e-04\n",
      "Epoch 66/100\n",
      "232/232 [==============================] - 6s 25ms/step - loss: 7.3390e-04 - mse: 7.3390e-04 - val_loss: 5.7175e-04 - val_mse: 5.7175e-04\n",
      "Epoch 67/100\n",
      "232/232 [==============================] - 6s 24ms/step - loss: 7.4790e-04 - mse: 7.4790e-04 - val_loss: 3.8754e-04 - val_mse: 3.8754e-04\n",
      "Epoch 68/100\n",
      "232/232 [==============================] - 6s 24ms/step - loss: 7.4900e-04 - mse: 7.4900e-04 - val_loss: 5.0290e-04 - val_mse: 5.0290e-04\n",
      "Epoch 69/100\n",
      "232/232 [==============================] - 6s 24ms/step - loss: 7.0901e-04 - mse: 7.0901e-04 - val_loss: 4.8664e-04 - val_mse: 4.8664e-04\n",
      "Epoch 70/100\n",
      "232/232 [==============================] - 6s 24ms/step - loss: 6.9225e-04 - mse: 6.9225e-04 - val_loss: 4.5428e-04 - val_mse: 4.5428e-04\n",
      "Epoch 71/100\n",
      "232/232 [==============================] - 6s 24ms/step - loss: 7.0421e-04 - mse: 7.0421e-04 - val_loss: 4.5603e-04 - val_mse: 4.5603e-04\n",
      "Epoch 72/100\n",
      "232/232 [==============================] - 6s 25ms/step - loss: 6.9094e-04 - mse: 6.9094e-04 - val_loss: 4.7583e-04 - val_mse: 4.7583e-04\n",
      "Epoch 73/100\n",
      "232/232 [==============================] - 6s 24ms/step - loss: 6.6079e-04 - mse: 6.6079e-04 - val_loss: 4.6616e-04 - val_mse: 4.6616e-04\n",
      "Epoch 74/100\n",
      "232/232 [==============================] - 6s 25ms/step - loss: 6.6766e-04 - mse: 6.6766e-04 - val_loss: 4.5804e-04 - val_mse: 4.5804e-04\n",
      "Epoch 75/100\n",
      "232/232 [==============================] - 6s 24ms/step - loss: 6.6819e-04 - mse: 6.6819e-04 - val_loss: 5.1658e-04 - val_mse: 5.1658e-04\n",
      "Epoch 76/100\n",
      "232/232 [==============================] - 6s 24ms/step - loss: 6.6436e-04 - mse: 6.6436e-04 - val_loss: 4.4627e-04 - val_mse: 4.4627e-04\n",
      "Epoch 77/100\n",
      "232/232 [==============================] - 6s 24ms/step - loss: 6.5495e-04 - mse: 6.5495e-04 - val_loss: 5.7608e-04 - val_mse: 5.7608e-04\n",
      "Epoch 78/100\n",
      "232/232 [==============================] - 6s 24ms/step - loss: 6.4186e-04 - mse: 6.4186e-04 - val_loss: 4.7042e-04 - val_mse: 4.7042e-04\n",
      "Epoch 79/100\n",
      "232/232 [==============================] - 6s 24ms/step - loss: 6.3488e-04 - mse: 6.3488e-04 - val_loss: 4.6324e-04 - val_mse: 4.6324e-04\n",
      "Epoch 80/100\n",
      "232/232 [==============================] - 6s 24ms/step - loss: 6.2962e-04 - mse: 6.2962e-04 - val_loss: 4.8787e-04 - val_mse: 4.8787e-04\n",
      "Epoch 81/100\n",
      "232/232 [==============================] - 6s 24ms/step - loss: 6.1146e-04 - mse: 6.1146e-04 - val_loss: 4.2777e-04 - val_mse: 4.2777e-04\n",
      "Epoch 82/100\n",
      "232/232 [==============================] - 6s 24ms/step - loss: 6.1647e-04 - mse: 6.1647e-04 - val_loss: 4.4467e-04 - val_mse: 4.4467e-04\n",
      "Epoch 83/100\n",
      "232/232 [==============================] - 6s 25ms/step - loss: 6.4081e-04 - mse: 6.4081e-04 - val_loss: 3.9586e-04 - val_mse: 3.9586e-04\n",
      "Epoch 84/100\n",
      "232/232 [==============================] - 6s 25ms/step - loss: 6.1351e-04 - mse: 6.1351e-04 - val_loss: 4.5429e-04 - val_mse: 4.5429e-04\n",
      "Epoch 85/100\n",
      "232/232 [==============================] - 6s 25ms/step - loss: 6.1264e-04 - mse: 6.1264e-04 - val_loss: 4.5413e-04 - val_mse: 4.5413e-04\n",
      "Epoch 86/100\n",
      "232/232 [==============================] - ETA: 0s - loss: 6.2229e-04 - mse: 6.2229e-04Restoring model weights from the end of the best epoch.\n",
      "232/232 [==============================] - 6s 24ms/step - loss: 6.2229e-04 - mse: 6.2229e-04 - val_loss: 6.2677e-04 - val_mse: 6.2677e-04\n",
      "Epoch 00086: early stopping\n"
     ]
    }
   ],
   "source": [
    "#Train Dense Bounding Box\n",
    "\n",
    "denseBBHistory = denseBB.fit(x_trainBB,y_trainBB, batch_size=128, epochs=100, validation_data=(x_validBB, y_validBB), callbacks=[EarlyStoppingAtMinLoss(), DenseBBMC])"
   ]
  },
  {
   "cell_type": "code",
   "execution_count": 65,
   "metadata": {},
   "outputs": [
    {
     "name": "stdout",
     "output_type": "stream",
     "text": [
      "Epoch 1/18\n",
      "232/232 [==============================] - 15s 66ms/step - loss: 3.6643 - accuracy: 0.0865 - val_loss: 3.1377 - val_accuracy: 0.1460\n",
      "Epoch 2/18\n",
      "232/232 [==============================] - 6s 26ms/step - loss: 2.9136 - accuracy: 0.1844 - val_loss: 2.4748 - val_accuracy: 0.2606\n",
      "Epoch 3/18\n",
      "232/232 [==============================] - 6s 25ms/step - loss: 2.4534 - accuracy: 0.2646 - val_loss: 2.3312 - val_accuracy: 0.2915\n",
      "Epoch 4/18\n",
      "232/232 [==============================] - 6s 25ms/step - loss: 2.1713 - accuracy: 0.3294 - val_loss: 1.9667 - val_accuracy: 0.3748\n",
      "Epoch 5/18\n",
      "232/232 [==============================] - 6s 25ms/step - loss: 1.9837 - accuracy: 0.3754 - val_loss: 1.7290 - val_accuracy: 0.4560\n",
      "Epoch 6/18\n",
      "232/232 [==============================] - 6s 25ms/step - loss: 1.8618 - accuracy: 0.4029 - val_loss: 1.8063 - val_accuracy: 0.4293\n",
      "Epoch 7/18\n",
      "232/232 [==============================] - 6s 25ms/step - loss: 1.7200 - accuracy: 0.4488 - val_loss: 1.6305 - val_accuracy: 0.4850\n",
      "Epoch 8/18\n",
      "232/232 [==============================] - 6s 25ms/step - loss: 1.6388 - accuracy: 0.4737 - val_loss: 1.5381 - val_accuracy: 0.4941\n",
      "Epoch 9/18\n",
      "232/232 [==============================] - 6s 25ms/step - loss: 1.5524 - accuracy: 0.4967 - val_loss: 1.4350 - val_accuracy: 0.5397\n",
      "Epoch 10/18\n",
      "232/232 [==============================] - 6s 25ms/step - loss: 1.5119 - accuracy: 0.5083 - val_loss: 1.4901 - val_accuracy: 0.5203\n",
      "Epoch 11/18\n",
      "232/232 [==============================] - 6s 25ms/step - loss: 1.4349 - accuracy: 0.5339 - val_loss: 1.3434 - val_accuracy: 0.5595\n",
      "Epoch 12/18\n",
      "232/232 [==============================] - 6s 25ms/step - loss: 1.3792 - accuracy: 0.5499 - val_loss: 1.3341 - val_accuracy: 0.5634\n",
      "Epoch 13/18\n",
      "232/232 [==============================] - 6s 25ms/step - loss: 1.3260 - accuracy: 0.5677 - val_loss: 1.2529 - val_accuracy: 0.5913\n",
      "Epoch 14/18\n",
      "232/232 [==============================] - 6s 26ms/step - loss: 1.3094 - accuracy: 0.5717 - val_loss: 1.2644 - val_accuracy: 0.5926\n",
      "Epoch 15/18\n",
      "232/232 [==============================] - 6s 25ms/step - loss: 1.2716 - accuracy: 0.5852 - val_loss: 1.1764 - val_accuracy: 0.6211\n",
      "Epoch 16/18\n",
      "232/232 [==============================] - 6s 24ms/step - loss: 1.2312 - accuracy: 0.5980 - val_loss: 1.1578 - val_accuracy: 0.6377\n",
      "Epoch 17/18\n",
      "232/232 [==============================] - 6s 25ms/step - loss: 1.1748 - accuracy: 0.6195 - val_loss: 1.2913 - val_accuracy: 0.5833\n",
      "Epoch 18/18\n",
      "232/232 [==============================] - 6s 24ms/step - loss: 1.1481 - accuracy: 0.6216 - val_loss: 1.2656 - val_accuracy: 0.5927\n"
     ]
    }
   ],
   "source": [
    "#Train Dense Classifier and save history for graphing\n",
    "\n",
    "denseClassifierHistory = denseClassifier.fit(x_train, y_train, batch_size=128, epochs=18, validation_data=(x_valid, y_valid), callbacks=[EarlyStoppingAtMinLoss(), DenseClassifierMC])"
   ]
  },
  {
   "cell_type": "code",
   "execution_count": 66,
   "metadata": {},
   "outputs": [
    {
     "name": "stdout",
     "output_type": "stream",
     "text": [
      "232/232 [==============================] - 1s 3ms/step - loss: 1.2656 - accuracy: 0.5927\n"
     ]
    },
    {
     "data": {
      "text/plain": [
       "[1.2655881643295288, 0.5926924347877502]"
      ]
     },
     "execution_count": 66,
     "metadata": {},
     "output_type": "execute_result"
    }
   ],
   "source": [
    "denseClassifier.evaluate(x_valid, y_valid)"
   ]
  },
  {
   "cell_type": "code",
   "execution_count": 101,
   "metadata": {},
   "outputs": [
    {
     "data": {
      "image/png": "[encoded data removed]",
      "text/plain": [
       "<Figure size 432x288 with 1 Axes>"
      ]
     },
     "metadata": {
      "needs_background": "light"
     },
     "output_type": "display_data"
    }
   ],
   "source": [
    "#Graph Dense Bounding Box Loss\n",
    "plt.plot(denseBBHistory.history['loss'])\n",
    "plt.plot(denseBBHistory.history['val_loss'])\n",
    "plt.title('model loss')\n",
    "plt.ylabel('loss')\n",
    "plt.xlabel('epoch')\n",
    "plt.legend(['train', 'test'], loc='upper left')\n",
    "plt.savefig('C:/Users/frank/Documents/AI Project/Figures/DenseBBLoss.png')\n",
    "plt.show()"
   ]
  },
  {
   "cell_type": "code",
   "execution_count": 125,
   "metadata": {},
   "outputs": [
    {
     "data": {
      "image/png": "[encoded data removed]",
      "text/plain": [
       "<Figure size 432x288 with 1 Axes>"
      ]
     },
     "metadata": {
      "needs_background": "light"
     },
     "output_type": "display_data"
    }
   ],
   "source": [
    "#Graph Dense Classifier Accuracy\n",
    "plt.plot(denseClassifierHistory.history['accuracy'])\n",
    "plt.plot(denseClassifierHistory.history['val_accuracy'])\n",
    "plt.title('model accuracy')\n",
    "plt.ylabel('accuracy')\n",
    "plt.xlabel('epoch')\n",
    "plt.legend(['train', 'test'], loc='upper left')\n",
    "plt.savefig('C:/Users/frank/Documents/AI Project/Figures/DenseClassifierAccuracy.png')\n",
    "plt.show()"
   ]
  },
  {
   "cell_type": "code",
   "execution_count": 126,
   "metadata": {},
   "outputs": [
    {
     "data": {
      "image/png": "[encoded data removed]",
      "text/plain": [
       "<Figure size 432x288 with 1 Axes>"
      ]
     },
     "metadata": {
      "needs_background": "light"
     },
     "output_type": "display_data"
    }
   ],
   "source": [
    "#Graph Dense Classifier Loss\n",
    "plt.plot(denseClassifierHistory.history['loss'])\n",
    "plt.plot(denseClassifierHistory.history['val_loss'])\n",
    "plt.title('model loss')\n",
    "plt.ylabel('loss')\n",
    "plt.xlabel('epoch')\n",
    "plt.legend(['train', 'test'], loc='upper left')\n",
    "plt.savefig('C:/Users/frank/Documents/AI Project/Figures/DenseClassifierLoss.png')\n",
    "plt.show()"
   ]
  },
  {
   "cell_type": "code",
   "execution_count": 133,
   "metadata": {},
   "outputs": [],
   "source": [
    "#Process the data for the CNN for image and bounding box jobs\n",
    "x_train_conv, x_valid_conv, y_train_conv, y_valid_conv = train_test_split(data, categoricalLabels, test_size=0.2, shuffle= True)\n",
    "\n",
    "x_train_conv_bb, x_valid_conv_bb, y_train_conv_bb, y_valid_conv_bb = train_test_split(data, boundary, test_size=0.2, shuffle= True)"
   ]
  },
  {
   "cell_type": "code",
   "execution_count": 144,
   "metadata": {},
   "outputs": [],
   "source": [
    "#Hyper Parameters\n",
    "\n",
    "#CNN Classifier\n",
    "conv_opt = 'adam'\n",
    "conv_loss = 'categorical_crossentropy'\n",
    "conv_metrics = ['accuracy']\n",
    "\n",
    "#CNN Bounding Box \n",
    "conv_bb_opt = keras.optimizers.Adam(learning_rate=0.0001)\n",
    "conv_bb = 'mse'\n",
    "conv_bb_metrics = ['loss']"
   ]
  },
  {
   "cell_type": "code",
   "execution_count": 145,
   "metadata": {},
   "outputs": [],
   "source": [
    "#CNN Classifier\n",
    "\n",
    "model_conv = keras.Sequential()\n",
    "model_conv.add(Conv2D(32, kernel_size=(3, 3),activation='relu', input_shape=(100, 100, 3)))\n",
    "model_conv.add(MaxPooling2D(pool_size=(2, 2)))\n",
    "\n",
    "model_conv.add(Conv2D(128, kernel_size=(3, 3), activation='relu'))\n",
    "model_conv.add(MaxPooling2D(pool_size=(2, 2)))\n",
    "model_conv.add(BatchNormalization())\n",
    "\n",
    "model_conv.add(Conv2D(128, kernel_size=(3, 3), activation='relu'))\n",
    "model_conv.add(MaxPooling2D(pool_size=(2, 2)))\n",
    "model_conv.add(BatchNormalization())\n",
    "model_conv.add(Dropout(0.25))\n",
    "\n",
    "model_conv.add(Conv2D(128, kernel_size=(3, 3), activation='relu'))\n",
    "model_conv.add(MaxPooling2D(pool_size=(2, 2)))\n",
    "model_conv.add(BatchNormalization())\n",
    "model_conv.add(Dropout(0.5))\n",
    "\n",
    "model_conv.add(Flatten())\n",
    "model_conv.add(Dense(128, activation='relu'))\n",
    "model_conv.add(Dropout(0.5))\n",
    "model_conv.add(Dense(n_classes, activation='softmax')) #classifier"
   ]
  },
  {
   "cell_type": "code",
   "execution_count": 146,
   "metadata": {},
   "outputs": [],
   "source": [
    "#CNN Bounding Box Predicter\n",
    "\n",
    "conv_bb = keras.Sequential()\n",
    "conv_bb.add(Conv2D(32, kernel_size=(3, 3),activation='relu', input_shape=(100, 100, 3)))\n",
    "conv_bb.add(MaxPooling2D(pool_size=(2, 2)))\n",
    "conv_bb.add(Conv2D(128, kernel_size=(3, 3), activation='relu'))\n",
    "conv_bb.add(MaxPooling2D(pool_size=(2, 2)))\n",
    "conv_bb.add(BatchNormalization())\n",
    "conv_bb.add(Conv2D(128, kernel_size=(3, 3), activation='relu'))\n",
    "conv_bb.add(MaxPooling2D(pool_size=(2, 2)))\n",
    "conv_bb.add(BatchNormalization())\n",
    "conv_bb.add(Dropout(0.25))\n",
    "conv_bb.add(Conv2D(128, kernel_size=(3, 3), activation='relu'))\n",
    "conv_bb.add(MaxPooling2D(pool_size=(2, 2)))\n",
    "conv_bb.add(BatchNormalization())\n",
    "conv_bb.add(Dropout(0.5))\n",
    "conv_bb.add(Flatten())\n",
    "conv_bb.add(Dense(128, activation='relu'))\n",
    "conv_bb.add(Dropout(0.5))\n",
    "conv_bb.add(Dense(4, activation='sigmoid')) #classifier"
   ]
  },
  {
   "cell_type": "code",
   "execution_count": 147,
   "metadata": {},
   "outputs": [],
   "source": [
    "#Compile Models\n",
    "\n",
    "model_conv.compile(loss=conv_loss,optimizer=conv_opt,metrics=conv_metrics)\n",
    "\n",
    "conv_bb.compile(loss=conv_loss,optimizer=conv_opt,metrics=conv_metrics)"
   ]
  },
  {
   "cell_type": "code",
   "execution_count": 148,
   "metadata": {},
   "outputs": [],
   "source": [
    "#Create checkpoints\n",
    "\n",
    "convMC = ModelCheckpoint('C:/Users/frank/Documents/AI Project/convModel.h5', monitor='val_accuracy')\n",
    "\n",
    "convBB = ModelCheckpoint('C:/Users/frank/Documents/AI Project/convBB.h5', monitor='val_loss')"
   ]
  },
  {
   "cell_type": "code",
   "execution_count": 149,
   "metadata": {},
   "outputs": [
    {
     "name": "stdout",
     "output_type": "stream",
     "text": [
      "Epoch 1/100\n",
      "232/232 [==============================] - 207s 893ms/step - loss: 3.5856 - accuracy: 0.0885 - val_loss: 3.0535 - val_accuracy: 0.1540\n",
      "Epoch 2/100\n",
      "232/232 [==============================] - 206s 887ms/step - loss: 2.6045 - accuracy: 0.2359 - val_loss: 2.1588 - val_accuracy: 0.3480\n",
      "Epoch 3/100\n",
      "232/232 [==============================] - 206s 888ms/step - loss: 1.7708 - accuracy: 0.4191 - val_loss: 1.9943 - val_accuracy: 0.4355\n",
      "Epoch 4/100\n",
      "232/232 [==============================] - 206s 886ms/step - loss: 1.3005 - accuracy: 0.5605 - val_loss: 0.8832 - val_accuracy: 0.7212\n",
      "Epoch 5/100\n",
      "232/232 [==============================] - 205s 885ms/step - loss: 0.9257 - accuracy: 0.6942 - val_loss: 0.4892 - val_accuracy: 0.8533\n",
      "Epoch 6/100\n",
      "232/232 [==============================] - 206s 886ms/step - loss: 0.6329 - accuracy: 0.7906 - val_loss: 0.3123 - val_accuracy: 0.9064\n",
      "Epoch 7/100\n",
      "232/232 [==============================] - 206s 886ms/step - loss: 0.4665 - accuracy: 0.8483 - val_loss: 0.1982 - val_accuracy: 0.9381\n",
      "Epoch 8/100\n",
      "232/232 [==============================] - 206s 887ms/step - loss: 0.3487 - accuracy: 0.8897 - val_loss: 0.1922 - val_accuracy: 0.9376\n",
      "Epoch 9/100\n",
      "232/232 [==============================] - 205s 885ms/step - loss: 0.2714 - accuracy: 0.9130 - val_loss: 0.1866 - val_accuracy: 0.9404\n",
      "Epoch 10/100\n",
      "232/232 [==============================] - 205s 885ms/step - loss: 0.2401 - accuracy: 0.9249 - val_loss: 0.1295 - val_accuracy: 0.9589\n",
      "Epoch 11/100\n",
      "232/232 [==============================] - 205s 884ms/step - loss: 0.2079 - accuracy: 0.9355 - val_loss: 0.0801 - val_accuracy: 0.9734\n",
      "Epoch 12/100\n",
      "232/232 [==============================] - 205s 885ms/step - loss: 0.1602 - accuracy: 0.9496 - val_loss: 0.1031 - val_accuracy: 0.9738\n",
      "Epoch 13/100\n",
      "232/232 [==============================] - 205s 884ms/step - loss: 0.1578 - accuracy: 0.9505 - val_loss: 0.0500 - val_accuracy: 0.9848\n",
      "Epoch 14/100\n",
      "232/232 [==============================] - 205s 885ms/step - loss: 0.1411 - accuracy: 0.9568 - val_loss: 0.0593 - val_accuracy: 0.9822\n",
      "Epoch 15/100\n",
      "232/232 [==============================] - 205s 884ms/step - loss: 0.1314 - accuracy: 0.9600 - val_loss: 0.0915 - val_accuracy: 0.9717\n",
      "Epoch 16/100\n",
      "232/232 [==============================] - 205s 885ms/step - loss: 0.1225 - accuracy: 0.9627 - val_loss: 0.0463 - val_accuracy: 0.9854\n",
      "Epoch 17/100\n",
      "232/232 [==============================] - 206s 886ms/step - loss: 0.1057 - accuracy: 0.9678 - val_loss: 0.0320 - val_accuracy: 0.9910\n",
      "Epoch 18/100\n",
      "232/232 [==============================] - 205s 883ms/step - loss: 0.0901 - accuracy: 0.9729 - val_loss: 0.0345 - val_accuracy: 0.9902\n",
      "Epoch 19/100\n",
      "232/232 [==============================] - 205s 883ms/step - loss: 0.0936 - accuracy: 0.9707 - val_loss: 0.0427 - val_accuracy: 0.9862\n",
      "Epoch 20/100\n",
      "232/232 [==============================] - 205s 884ms/step - loss: 0.0973 - accuracy: 0.9707 - val_loss: 0.0402 - val_accuracy: 0.9899\n",
      "Epoch 21/100\n",
      "232/232 [==============================] - 205s 883ms/step - loss: 0.1041 - accuracy: 0.9695 - val_loss: 0.0316 - val_accuracy: 0.9911\n",
      "Epoch 22/100\n",
      "232/232 [==============================] - 205s 883ms/step - loss: 0.0912 - accuracy: 0.9735 - val_loss: 0.0258 - val_accuracy: 0.9919\n",
      "Epoch 23/100\n",
      "232/232 [==============================] - 205s 884ms/step - loss: 0.0728 - accuracy: 0.9790 - val_loss: 0.0390 - val_accuracy: 0.9880\n",
      "Epoch 24/100\n",
      "232/232 [==============================] - 205s 885ms/step - loss: 0.0792 - accuracy: 0.9771 - val_loss: 0.0274 - val_accuracy: 0.9927\n",
      "Epoch 25/100\n",
      "232/232 [==============================] - 206s 889ms/step - loss: 0.0716 - accuracy: 0.9783 - val_loss: 0.0466 - val_accuracy: 0.9871\n",
      "Epoch 26/100\n",
      "232/232 [==============================] - 205s 885ms/step - loss: 0.0822 - accuracy: 0.9752 - val_loss: 0.0360 - val_accuracy: 0.9893\n",
      "Epoch 27/100\n",
      "232/232 [==============================] - 205s 885ms/step - loss: 0.0768 - accuracy: 0.9770 - val_loss: 0.0413 - val_accuracy: 0.9875\n",
      "Epoch 28/100\n",
      "232/232 [==============================] - 205s 885ms/step - loss: 0.0687 - accuracy: 0.9797 - val_loss: 0.0328 - val_accuracy: 0.9898\n",
      "Epoch 29/100\n",
      "232/232 [==============================] - 205s 885ms/step - loss: 0.0666 - accuracy: 0.9800 - val_loss: 0.0326 - val_accuracy: 0.9915\n",
      "Epoch 30/100\n",
      "232/232 [==============================] - 205s 884ms/step - loss: 0.0700 - accuracy: 0.9793 - val_loss: 0.0347 - val_accuracy: 0.9898\n",
      "Epoch 31/100\n",
      "232/232 [==============================] - 207s 891ms/step - loss: 0.0796 - accuracy: 0.9770 - val_loss: 0.0301 - val_accuracy: 0.9911\n",
      "Epoch 32/100\n",
      "232/232 [==============================] - 206s 890ms/step - loss: 0.0639 - accuracy: 0.9812 - val_loss: 0.0155 - val_accuracy: 0.9960\n",
      "Epoch 33/100\n",
      "232/232 [==============================] - 207s 892ms/step - loss: 0.0528 - accuracy: 0.9842 - val_loss: 0.0573 - val_accuracy: 0.9844\n",
      "Epoch 34/100\n",
      "232/232 [==============================] - 207s 892ms/step - loss: 0.0692 - accuracy: 0.9799 - val_loss: 0.0224 - val_accuracy: 0.9935\n",
      "Epoch 35/100\n",
      "232/232 [==============================] - 207s 894ms/step - loss: 0.0641 - accuracy: 0.9815 - val_loss: 0.0259 - val_accuracy: 0.9949\n",
      "Epoch 36/100\n",
      "232/232 [==============================] - 207s 891ms/step - loss: 0.0589 - accuracy: 0.9832 - val_loss: 0.0334 - val_accuracy: 0.9912\n",
      "Epoch 37/100\n",
      "232/232 [==============================] - 207s 891ms/step - loss: 0.0599 - accuracy: 0.9824 - val_loss: 0.0333 - val_accuracy: 0.9911\n",
      "Epoch 38/100\n",
      "232/232 [==============================] - ETA: 0s - loss: 0.0529 - accuracy: 0.9843Restoring model weights from the end of the best epoch.\n",
      "232/232 [==============================] - 207s 893ms/step - loss: 0.0529 - accuracy: 0.9843 - val_loss: 0.0249 - val_accuracy: 0.9930\n",
      "Epoch 00038: early stopping\n"
     ]
    }
   ],
   "source": [
    "#train model\n",
    "convClassifierHistory = model_conv.fit(x_train_conv, y_train_conv, batch_size=128, epochs=100, validation_data=(x_valid_conv, y_valid_conv), callbacks=[EarlyStoppingAtMinLoss(), convMC])"
   ]
  },
  {
   "cell_type": "code",
   "execution_count": 150,
   "metadata": {},
   "outputs": [
    {
     "name": "stdout",
     "output_type": "stream",
     "text": [
      "Epoch 1/100\n",
      "232/232 [==============================] - 207s 892ms/step - loss: 1.0300 - accuracy: 0.5550 - val_loss: 0.9999 - val_accuracy: 0.6229\n",
      "Epoch 2/100\n",
      "232/232 [==============================] - 205s 886ms/step - loss: 0.9999 - accuracy: 0.5593 - val_loss: 0.9951 - val_accuracy: 0.6221\n",
      "Epoch 3/100\n",
      "232/232 [==============================] - 205s 886ms/step - loss: 0.9977 - accuracy: 0.5667 - val_loss: 0.9943 - val_accuracy: 0.6234\n",
      "Epoch 4/100\n",
      "232/232 [==============================] - 206s 888ms/step - loss: 0.9964 - accuracy: 0.5800 - val_loss: 0.9942 - val_accuracy: 0.6199\n",
      "Epoch 5/100\n",
      "232/232 [==============================] - 206s 887ms/step - loss: 0.9959 - accuracy: 0.5800 - val_loss: 0.9938 - val_accuracy: 0.6246\n",
      "Epoch 6/100\n",
      "232/232 [==============================] - 206s 888ms/step - loss: 0.9952 - accuracy: 0.5876 - val_loss: 0.9939 - val_accuracy: 0.6251\n",
      "Epoch 7/100\n",
      "232/232 [==============================] - 206s 887ms/step - loss: 0.9948 - accuracy: 0.5846 - val_loss: 0.9939 - val_accuracy: 0.6271\n",
      "Epoch 8/100\n",
      "232/232 [==============================] - 206s 887ms/step - loss: 0.9945 - accuracy: 0.5854 - val_loss: 0.9943 - val_accuracy: 0.6259\n",
      "Epoch 9/100\n",
      "232/232 [==============================] - 206s 888ms/step - loss: 0.9942 - accuracy: 0.5832 - val_loss: 0.9938 - val_accuracy: 0.6411\n",
      "Epoch 10/100\n",
      "232/232 [==============================] - 206s 887ms/step - loss: 0.9940 - accuracy: 0.5797 - val_loss: 0.9938 - val_accuracy: 0.6364\n",
      "Epoch 11/100\n",
      "232/232 [==============================] - 206s 887ms/step - loss: 0.9938 - accuracy: 0.5809 - val_loss: 0.9939 - val_accuracy: 0.6353\n",
      "Epoch 12/100\n",
      "232/232 [==============================] - 206s 887ms/step - loss: 0.9937 - accuracy: 0.5835 - val_loss: 0.9938 - val_accuracy: 0.6428\n",
      "Epoch 13/100\n",
      "232/232 [==============================] - 206s 888ms/step - loss: 0.9935 - accuracy: 0.5757 - val_loss: 0.9942 - val_accuracy: 0.6616\n",
      "Epoch 14/100\n",
      "232/232 [==============================] - 206s 890ms/step - loss: 0.9935 - accuracy: 0.5854 - val_loss: 0.9938 - val_accuracy: 0.6468\n",
      "Epoch 15/100\n",
      "232/232 [==============================] - 202s 873ms/step - loss: 0.9934 - accuracy: 0.5706 - val_loss: 0.9939 - val_accuracy: 0.5899\n",
      "Epoch 16/100\n",
      "232/232 [==============================] - 192s 826ms/step - loss: 0.9934 - accuracy: 0.5729 - val_loss: 0.9940 - val_accuracy: 0.6257\n",
      "Epoch 17/100\n",
      "232/232 [==============================] - 192s 827ms/step - loss: 0.9934 - accuracy: 0.5732 - val_loss: 0.9938 - val_accuracy: 0.6677\n",
      "Epoch 18/100\n",
      "232/232 [==============================] - 192s 828ms/step - loss: 0.9933 - accuracy: 0.5628 - val_loss: 0.9938 - val_accuracy: 0.5438\n",
      "Epoch 19/100\n",
      "232/232 [==============================] - 193s 832ms/step - loss: 0.9933 - accuracy: 0.5626 - val_loss: 0.9940 - val_accuracy: 0.5826\n",
      "Epoch 20/100\n",
      "232/232 [==============================] - 195s 839ms/step - loss: 0.9932 - accuracy: 0.5637 - val_loss: 0.9938 - val_accuracy: 0.5438\n",
      "Epoch 21/100\n",
      "232/232 [==============================] - 195s 839ms/step - loss: 0.9931 - accuracy: 0.5634 - val_loss: 0.9937 - val_accuracy: 0.6526\n",
      "Epoch 22/100\n",
      "232/232 [==============================] - 195s 840ms/step - loss: 0.9931 - accuracy: 0.5935 - val_loss: 0.9937 - val_accuracy: 0.6686\n",
      "Epoch 23/100\n",
      "232/232 [==============================] - 195s 840ms/step - loss: 0.9930 - accuracy: 0.6076 - val_loss: 0.9937 - val_accuracy: 0.6845\n",
      "Epoch 24/100\n",
      "232/232 [==============================] - 195s 839ms/step - loss: 0.9930 - accuracy: 0.6136 - val_loss: 0.9937 - val_accuracy: 0.6871\n",
      "Epoch 25/100\n",
      "232/232 [==============================] - 196s 844ms/step - loss: 0.9929 - accuracy: 0.6270 - val_loss: 0.9936 - val_accuracy: 0.6917\n",
      "Epoch 26/100\n",
      "232/232 [==============================] - 195s 841ms/step - loss: 0.9928 - accuracy: 0.6504 - val_loss: 0.9936 - val_accuracy: 0.7170\n",
      "Epoch 27/100\n",
      "232/232 [==============================] - 195s 840ms/step - loss: 0.9928 - accuracy: 0.6654 - val_loss: 0.9935 - val_accuracy: 0.7059\n",
      "Epoch 28/100\n",
      "232/232 [==============================] - 195s 841ms/step - loss: 0.9928 - accuracy: 0.6790 - val_loss: 0.9935 - val_accuracy: 0.7244\n",
      "Epoch 29/100\n",
      "232/232 [==============================] - 197s 848ms/step - loss: 0.9927 - accuracy: 0.7040 - val_loss: 0.9934 - val_accuracy: 0.7661\n",
      "Epoch 30/100\n",
      "232/232 [==============================] - 196s 846ms/step - loss: 0.9927 - accuracy: 0.7004 - val_loss: 0.9934 - val_accuracy: 0.7565\n",
      "Epoch 31/100\n",
      "232/232 [==============================] - 196s 843ms/step - loss: 0.9927 - accuracy: 0.7235 - val_loss: 0.9933 - val_accuracy: 0.7992\n",
      "Epoch 32/100\n",
      "232/232 [==============================] - 196s 845ms/step - loss: 0.9926 - accuracy: 0.7434 - val_loss: 0.9933 - val_accuracy: 0.7752\n",
      "Epoch 33/100\n",
      "232/232 [==============================] - 196s 843ms/step - loss: 0.9926 - accuracy: 0.7526 - val_loss: 0.9932 - val_accuracy: 0.8822\n",
      "Epoch 34/100\n",
      "232/232 [==============================] - 197s 847ms/step - loss: 0.9925 - accuracy: 0.7615 - val_loss: 0.9933 - val_accuracy: 0.8563\n",
      "Epoch 35/100\n",
      "232/232 [==============================] - 196s 846ms/step - loss: 0.9925 - accuracy: 0.7646 - val_loss: 0.9932 - val_accuracy: 0.8436\n",
      "Epoch 36/100\n",
      "232/232 [==============================] - 196s 846ms/step - loss: 0.9925 - accuracy: 0.7700 - val_loss: 0.9932 - val_accuracy: 0.8323\n",
      "Epoch 37/100\n",
      "232/232 [==============================] - 196s 846ms/step - loss: 0.9925 - accuracy: 0.7695 - val_loss: 0.9932 - val_accuracy: 0.7837\n",
      "Epoch 38/100\n",
      "232/232 [==============================] - 196s 845ms/step - loss: 0.9925 - accuracy: 0.7696 - val_loss: 0.9932 - val_accuracy: 0.8737\n",
      "Epoch 39/100\n",
      "232/232 [==============================] - 197s 850ms/step - loss: 0.9925 - accuracy: 0.7754 - val_loss: 0.9932 - val_accuracy: 0.8795\n",
      "Epoch 40/100\n",
      "232/232 [==============================] - 197s 848ms/step - loss: 0.9925 - accuracy: 0.7734 - val_loss: 0.9932 - val_accuracy: 0.7964\n",
      "Epoch 41/100\n",
      "232/232 [==============================] - 197s 848ms/step - loss: 0.9925 - accuracy: 0.7820 - val_loss: 0.9932 - val_accuracy: 0.8007\n",
      "Epoch 42/100\n",
      "232/232 [==============================] - 196s 847ms/step - loss: 0.9925 - accuracy: 0.7839 - val_loss: 0.9932 - val_accuracy: 0.8014\n",
      "Epoch 43/100\n",
      "232/232 [==============================] - 198s 855ms/step - loss: 0.9924 - accuracy: 0.7865 - val_loss: 0.9932 - val_accuracy: 0.8038\n",
      "Epoch 44/100\n",
      "232/232 [==============================] - 197s 848ms/step - loss: 0.9924 - accuracy: 0.7908 - val_loss: 0.9932 - val_accuracy: 0.9036\n",
      "Epoch 45/100\n",
      "232/232 [==============================] - 197s 847ms/step - loss: 0.9924 - accuracy: 0.7911 - val_loss: 0.9932 - val_accuracy: 0.8929\n",
      "Epoch 46/100\n",
      "232/232 [==============================] - 197s 849ms/step - loss: 0.9924 - accuracy: 0.7914 - val_loss: 0.9931 - val_accuracy: 0.8555\n",
      "Epoch 47/100\n",
      "232/232 [==============================] - 197s 848ms/step - loss: 0.9924 - accuracy: 0.7914 - val_loss: 0.9931 - val_accuracy: 0.8800\n",
      "Epoch 48/100\n",
      "232/232 [==============================] - 198s 852ms/step - loss: 0.9924 - accuracy: 0.7961 - val_loss: 0.9932 - val_accuracy: 0.8115\n",
      "Epoch 49/100\n",
      "232/232 [==============================] - 197s 849ms/step - loss: 0.9924 - accuracy: 0.7894 - val_loss: 0.9932 - val_accuracy: 0.7743\n",
      "Epoch 50/100\n",
      "232/232 [==============================] - 197s 849ms/step - loss: 0.9924 - accuracy: 0.7907 - val_loss: 0.9932 - val_accuracy: 0.8992\n",
      "Epoch 51/100\n",
      "232/232 [==============================] - 196s 847ms/step - loss: 0.9924 - accuracy: 0.7982 - val_loss: 0.9931 - val_accuracy: 0.8795\n",
      "Epoch 52/100\n",
      "232/232 [==============================] - 197s 850ms/step - loss: 0.9924 - accuracy: 0.7983 - val_loss: 0.9931 - val_accuracy: 0.8536\n",
      "Epoch 53/100\n",
      "232/232 [==============================] - 197s 849ms/step - loss: 0.9924 - accuracy: 0.8010 - val_loss: 0.9932 - val_accuracy: 0.9137\n",
      "Epoch 54/100\n",
      "232/232 [==============================] - 197s 848ms/step - loss: 0.9924 - accuracy: 0.8008 - val_loss: 0.9931 - val_accuracy: 0.8091\n",
      "Epoch 55/100\n",
      "232/232 [==============================] - 197s 850ms/step - loss: 0.9924 - accuracy: 0.7983 - val_loss: 0.9932 - val_accuracy: 0.9455\n",
      "Epoch 56/100\n",
      "232/232 [==============================] - 197s 848ms/step - loss: 0.9924 - accuracy: 0.8056 - val_loss: 0.9931 - val_accuracy: 0.9304\n",
      "Epoch 57/100\n",
      "232/232 [==============================] - 197s 851ms/step - loss: 0.9924 - accuracy: 0.8077 - val_loss: 0.9931 - val_accuracy: 0.8149\n",
      "Epoch 58/100\n",
      "232/232 [==============================] - 197s 849ms/step - loss: 0.9924 - accuracy: 0.8104 - val_loss: 0.9931 - val_accuracy: 0.7909\n",
      "Epoch 59/100\n",
      "232/232 [==============================] - 197s 848ms/step - loss: 0.9924 - accuracy: 0.8095 - val_loss: 0.9931 - val_accuracy: 0.8485\n",
      "Epoch 60/100\n",
      "232/232 [==============================] - 197s 847ms/step - loss: 0.9924 - accuracy: 0.8111 - val_loss: 0.9931 - val_accuracy: 0.9585\n",
      "Epoch 61/100\n",
      "232/232 [==============================] - 196s 847ms/step - loss: 0.9924 - accuracy: 0.8103 - val_loss: 0.9931 - val_accuracy: 0.8591\n",
      "Epoch 62/100\n",
      "232/232 [==============================] - 197s 851ms/step - loss: 0.9924 - accuracy: 0.8119 - val_loss: 0.9931 - val_accuracy: 0.8459\n",
      "Epoch 63/100\n",
      "232/232 [==============================] - 197s 847ms/step - loss: 0.9924 - accuracy: 0.8155 - val_loss: 0.9931 - val_accuracy: 0.8246\n",
      "Epoch 64/100\n",
      "232/232 [==============================] - 197s 848ms/step - loss: 0.9924 - accuracy: 0.8177 - val_loss: 0.9931 - val_accuracy: 0.8969\n",
      "Epoch 65/100\n",
      "232/232 [==============================] - 197s 847ms/step - loss: 0.9923 - accuracy: 0.8253 - val_loss: 0.9931 - val_accuracy: 0.9097\n",
      "Epoch 66/100\n",
      "232/232 [==============================] - 197s 850ms/step - loss: 0.9923 - accuracy: 0.8287 - val_loss: 0.9931 - val_accuracy: 0.8726\n",
      "Epoch 67/100\n",
      "232/232 [==============================] - 197s 848ms/step - loss: 0.9923 - accuracy: 0.8259 - val_loss: 0.9931 - val_accuracy: 0.8404\n",
      "Epoch 68/100\n",
      "232/232 [==============================] - 197s 848ms/step - loss: 0.9923 - accuracy: 0.8259 - val_loss: 0.9931 - val_accuracy: 0.8714\n",
      "Epoch 69/100\n",
      "232/232 [==============================] - 199s 856ms/step - loss: 0.9923 - accuracy: 0.8242 - val_loss: 0.9931 - val_accuracy: 0.8200\n",
      "Epoch 70/100\n",
      "232/232 [==============================] - 197s 848ms/step - loss: 0.9923 - accuracy: 0.8300 - val_loss: 0.9931 - val_accuracy: 0.9298\n",
      "Epoch 71/100\n",
      "232/232 [==============================] - 198s 852ms/step - loss: 0.9923 - accuracy: 0.8299 - val_loss: 0.9931 - val_accuracy: 0.8095\n",
      "Epoch 72/100\n",
      "232/232 [==============================] - 197s 849ms/step - loss: 0.9923 - accuracy: 0.8299 - val_loss: 0.9931 - val_accuracy: 0.9567\n",
      "Epoch 73/100\n",
      "232/232 [==============================] - 197s 849ms/step - loss: 0.9923 - accuracy: 0.8362 - val_loss: 0.9931 - val_accuracy: 0.8150\n",
      "Epoch 74/100\n",
      "232/232 [==============================] - 197s 848ms/step - loss: 0.9923 - accuracy: 0.8346 - val_loss: 0.9931 - val_accuracy: 0.9524\n",
      "Epoch 75/100\n",
      "232/232 [==============================] - 197s 850ms/step - loss: 0.9923 - accuracy: 0.8369 - val_loss: 0.9931 - val_accuracy: 0.8254\n",
      "Epoch 76/100\n",
      "232/232 [==============================] - 198s 852ms/step - loss: 0.9923 - accuracy: 0.8414 - val_loss: 0.9931 - val_accuracy: 0.8507\n",
      "Epoch 77/100\n",
      "232/232 [==============================] - 197s 850ms/step - loss: 0.9923 - accuracy: 0.8434 - val_loss: 0.9931 - val_accuracy: 0.8989\n",
      "Epoch 78/100\n",
      "232/232 [==============================] - 197s 849ms/step - loss: 0.9923 - accuracy: 0.8469 - val_loss: 0.9931 - val_accuracy: 0.8646\n",
      "Epoch 79/100\n",
      "232/232 [==============================] - 197s 850ms/step - loss: 0.9923 - accuracy: 0.8430 - val_loss: 0.9931 - val_accuracy: 0.9207\n",
      "Epoch 80/100\n",
      "232/232 [==============================] - 198s 851ms/step - loss: 0.9923 - accuracy: 0.8427 - val_loss: 0.9931 - val_accuracy: 0.9283\n",
      "Epoch 81/100\n",
      "232/232 [==============================] - 197s 849ms/step - loss: 0.9923 - accuracy: 0.8424 - val_loss: 0.9930 - val_accuracy: 0.8371\n",
      "Epoch 82/100\n",
      "232/232 [==============================] - 197s 849ms/step - loss: 0.9923 - accuracy: 0.8438 - val_loss: 0.9931 - val_accuracy: 0.8688\n",
      "Epoch 83/100\n",
      "232/232 [==============================] - 197s 849ms/step - loss: 0.9923 - accuracy: 0.8467 - val_loss: 0.9931 - val_accuracy: 0.9370\n",
      "Epoch 84/100\n",
      "232/232 [==============================] - 197s 849ms/step - loss: 0.9923 - accuracy: 0.8467 - val_loss: 0.9930 - val_accuracy: 0.8952\n",
      "Epoch 85/100\n",
      "232/232 [==============================] - 198s 854ms/step - loss: 0.9922 - accuracy: 0.8485 - val_loss: 0.9930 - val_accuracy: 0.8507\n",
      "Epoch 86/100\n",
      "232/232 [==============================] - 197s 851ms/step - loss: 0.9922 - accuracy: 0.8499 - val_loss: 0.9930 - val_accuracy: 0.9490\n",
      "Epoch 87/100\n",
      "232/232 [==============================] - 198s 853ms/step - loss: 0.9922 - accuracy: 0.8500 - val_loss: 0.9930 - val_accuracy: 0.8831\n",
      "Epoch 88/100\n",
      "232/232 [==============================] - 197s 848ms/step - loss: 0.9922 - accuracy: 0.8503 - val_loss: 0.9930 - val_accuracy: 0.8781\n",
      "Epoch 89/100\n",
      "232/232 [==============================] - 198s 853ms/step - loss: 0.9922 - accuracy: 0.8491 - val_loss: 0.9930 - val_accuracy: 0.9436\n",
      "Epoch 90/100\n",
      "232/232 [==============================] - 197s 850ms/step - loss: 0.9922 - accuracy: 0.8513 - val_loss: 0.9930 - val_accuracy: 0.8459\n",
      "Epoch 91/100\n",
      "232/232 [==============================] - 197s 848ms/step - loss: 0.9922 - accuracy: 0.8496 - val_loss: 0.9930 - val_accuracy: 0.9087\n",
      "Epoch 92/100\n",
      "232/232 [==============================] - 197s 849ms/step - loss: 0.9922 - accuracy: 0.8486 - val_loss: 0.9930 - val_accuracy: 0.8898\n",
      "Epoch 93/100\n",
      "232/232 [==============================] - 197s 848ms/step - loss: 0.9922 - accuracy: 0.8478 - val_loss: 0.9931 - val_accuracy: 0.9165\n",
      "Epoch 94/100\n",
      "232/232 [==============================] - 198s 852ms/step - loss: 0.9922 - accuracy: 0.8497 - val_loss: 0.9930 - val_accuracy: 0.8538\n",
      "Epoch 95/100\n",
      "232/232 [==============================] - 197s 851ms/step - loss: 0.9922 - accuracy: 0.8522 - val_loss: 0.9930 - val_accuracy: 0.9366\n",
      "Epoch 96/100\n",
      "232/232 [==============================] - 197s 849ms/step - loss: 0.9922 - accuracy: 0.8486 - val_loss: 0.9930 - val_accuracy: 0.8366\n",
      "Epoch 97/100\n",
      "232/232 [==============================] - 197s 848ms/step - loss: 0.9922 - accuracy: 0.8534 - val_loss: 0.9930 - val_accuracy: 0.8406\n",
      "Epoch 98/100\n",
      "232/232 [==============================] - 197s 850ms/step - loss: 0.9922 - accuracy: 0.8521 - val_loss: 0.9930 - val_accuracy: 0.9217\n",
      "Epoch 99/100\n",
      "232/232 [==============================] - 197s 851ms/step - loss: 0.9922 - accuracy: 0.8534 - val_loss: 0.9930 - val_accuracy: 0.9164\n",
      "Epoch 100/100\n",
      "232/232 [==============================] - 197s 847ms/step - loss: 0.9922 - accuracy: 0.8510 - val_loss: 0.9930 - val_accuracy: 0.8938\n"
     ]
    }
   ],
   "source": [
    "#train model\n",
    "convBBHistory = conv_bb.fit(x_train_conv_bb, y_train_conv_bb, batch_size=128, epochs=100, validation_data=(x_valid_conv_bb, y_valid_conv_bb))#, callbacks=[EarlyStoppingAtMinLoss(), convBB])"
   ]
  },
  {
   "cell_type": "code",
   "execution_count": 159,
   "metadata": {},
   "outputs": [
    {
     "data": {
      "image/png": "[encoded data removed]",
      "text/plain": [
       "<Figure size 432x288 with 1 Axes>"
      ]
     },
     "metadata": {
      "needs_background": "light"
     },
     "output_type": "display_data"
    }
   ],
   "source": [
    "#Graph CNN Bounding Box Loss\n",
    "plt.plot(convBBHistory.history['loss'])\n",
    "plt.plot(convBBHistory.history['val_loss'])\n",
    "plt.title('CNN Bounding Box Loss')\n",
    "plt.ylabel('Loss')\n",
    "plt.xlabel('epoch')\n",
    "plt.legend(['train', 'test'], loc='upper left')\n",
    "plt.savefig('C:/Users/frank/Documents/AI Project/Figures/ConvBBLoss.png')\n",
    "plt.show()"
   ]
  },
  {
   "cell_type": "code",
   "execution_count": 157,
   "metadata": {},
   "outputs": [
    {
     "data": {
      "image/png": "[encoded data removed]",
      "text/plain": [
       "<Figure size 432x288 with 1 Axes>"
      ]
     },
     "metadata": {
      "needs_background": "light"
     },
     "output_type": "display_data"
    }
   ],
   "source": [
    "#Graph CNN Classifier Accuracy\n",
    "plt.plot(convClassifierHistory.history['accuracy'])\n",
    "plt.plot(convClassifierHistory.history['val_accuracy'])\n",
    "plt.title('CNN Classifier accuracy')\n",
    "plt.ylabel('accuracy')\n",
    "plt.xlabel('epoch')\n",
    "plt.legend(['train', 'test'], loc='upper left')\n",
    "plt.savefig('C:/Users/frank/Documents/AI Project/Figures/ConvClassifierAccuracy.png')\n",
    "plt.show()"
   ]
  },
  {
   "cell_type": "code",
   "execution_count": 160,
   "metadata": {},
   "outputs": [
    {
     "data": {
      "image/png": "[encoded data removed]",
      "text/plain": [
       "<Figure size 432x288 with 1 Axes>"
      ]
     },
     "metadata": {
      "needs_background": "light"
     },
     "output_type": "display_data"
    }
   ],
   "source": [
    "#Graph CNN Classifier Loss\n",
    "plt.plot(convClassifierHistory.history['loss'])\n",
    "plt.plot(convClassifierHistory.history['val_loss'])\n",
    "plt.title('CNN Classifier Loss')\n",
    "plt.ylabel('Loss')\n",
    "plt.xlabel('epoch')\n",
    "plt.legend(['train', 'test'], loc='upper left')\n",
    "plt.savefig('C:/Users/frank/Documents/AI Project/Figures/ConvClassifierLoss.png')\n",
    "plt.show()"
   ]
  }
 ],
 "metadata": {
  "kernelspec": {
   "display_name": "Python 3",
   "language": "python",
   "name": "python3"
  },
  "language_info": {
   "codemirror_mode": {
    "name": "ipython",
    "version": 3
   },
   "file_extension": ".py",
   "mimetype": "text/x-python",
   "name": "python",
   "nbconvert_exporter": "python",
   "pygments_lexer": "ipython3",
   "version": "3.8.0"
  }
 },
 "nbformat": 4,
 "nbformat_minor": 4
}
