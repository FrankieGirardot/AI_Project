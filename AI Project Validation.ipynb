{
 "cells": [
  {
   "cell_type": "code",
   "execution_count": 1,
   "metadata": {},
   "outputs": [],
   "source": [
    "import numpy as np\n",
    "import pandas as pd\n",
    "import matplotlib.pyplot as plt\n",
    "import csv\n",
    "import torch\n",
    "import torch.nn as nn\n",
    "import tensorflow as tf\n",
    "\n",
    "from tensorflow.python.client import device_lib\n",
    "from tensorflow import keras\n",
    "from torchvision import models\n",
    "\n",
    "from keras.layers import Dense\n",
    "from keras.layers import BatchNormalization\n",
    "from keras.layers import Dropout\n",
    "from keras.layers import Conv2D, MaxPooling2D, Flatten\n",
    "from keras import backend as K\n",
    "from keras.callbacks import EarlyStopping as ES\n",
    "from keras.callbacks import ModelCheckpoint\n",
    "from keras.applications import VGG16\n",
    "from tensorflow.keras.layers import Flatten\n",
    "from tensorflow.keras.layers import Input\n",
    "from tensorflow.keras.models import Model\n",
    "from tensorflow.keras.optimizers import Adam\n",
    "from keras.metrics import MeanIoU\n",
    "\n",
    "from matplotlib.patches import Rectangle \n",
    "from matplotlib.pyplot import matshow\n",
    "\n",
    "from sklearn.model_selection import train_test_split\n",
    "from sklearn.metrics import confusion_matrix\n",
    "from sklearn.metrics import plot_confusion_matrix\n",
    "from sklearn.metrics import classification_report"
   ]
  },
  {
   "cell_type": "code",
   "execution_count": 2,
   "metadata": {},
   "outputs": [],
   "source": [
    "# The German Traffic Sign Recognition Benchmark\n",
    "#\n",
    "# sample code for reading the traffic sign images and the\n",
    "# corresponding labels\n",
    "#\n",
    "# example:\n",
    "#            \n",
    "# trainImages, trainLabels = readTrafficSigns('GTSRB/Training')\n",
    "# print len(trainLabels), len(trainImages)\n",
    "# plt.imshow(trainImages[42])\n",
    "# plt.show()\n",
    "#\n",
    "# have fun, Christian\n",
    "\n",
    "# function for reading the images\n",
    "# arguments: path to the traffic sign data, for example './GTSRB/Training'\n",
    "# returns: list of images, list of corresponding labels \n",
    "def readTrafficSignsFinalTest(rootpath):\n",
    "    '''Reads traffic sign data for German Traffic Sign Recognition Benchmark.\n",
    "\n",
    "    Arguments: path to the traffic sign data, for example './GTSRB/Training'\n",
    "    Returns:   list of images, list of corresponding labels'''\n",
    "    images = [] # images\n",
    "    boundary = []\n",
    "    labels = [] # corresponding labels\n",
    "    # loop over all 42 classes\n",
    "    #for c in range(0,43):\n",
    "    prefix = rootpath + '/' # add /\n",
    "    gtFile = open('C:/Users/frank/Documents/AI Project/GTSRB/Final_Test/Images/GT-final_test.test.csv') # annotations file\n",
    "    gtReader = csv.reader(gtFile, delimiter=';') # csv parser for annotations file\n",
    "    next(gtReader) # skip header\n",
    "    # loop over all images in current annotations file\n",
    "    for row in gtReader:\n",
    "            images.append(plt.imread(prefix + row[0])) # the 1st column is the filename\n",
    "            labels.append(row[7]) # the 8th column is the label\n",
    "            boundary.append(row[3:7])\n",
    "    gtFile.close()\n",
    "    return images, boundary, labels"
   ]
  },
  {
   "cell_type": "code",
   "execution_count": 3,
   "metadata": {},
   "outputs": [],
   "source": [
    "# Load data\n",
    "train_Examples, train_boundary, train_labels = readTrafficSignsFinalTest('C:/Users/frank/Documents/AI Project/GTSRB/Final_Test/Images')\n",
    "\n",
    "train_Examples = np.asarray(train_Examples)\n",
    "train_boundary = np.asarray(train_boundary)\n",
    "train_labels = np.asarray(train_labels)"
   ]
  },
  {
   "cell_type": "code",
   "execution_count": 4,
   "metadata": {},
   "outputs": [],
   "source": [
    "#Process the data, we are only interested in images that are lass than 101 pixels wide and tall\n",
    "count = 0\n",
    "for i in range(len(train_Examples)):\n",
    "    rows, columns, rgb = train_Examples[i].shape\n",
    "    if rows < 101 and columns < 101:\n",
    "        count+=1\n",
    "\n",
    "data = np.zeros((count,100,100,3), dtype=int)\n",
    "\n",
    "iterator = 0\n",
    "\n",
    "for i in range(len(train_Examples)):\n",
    "    \n",
    "    rows,columns,rgb = train_Examples[i].shape\n",
    "    \n",
    "    value = train_Examples[i]\n",
    "    \n",
    "    if rows < 101 and columns < 101:\n",
    "    \n",
    "        for j in range(rows):\n",
    "        \n",
    "            for n in range(columns):\n",
    "            \n",
    "                for k in range(rgb):\n",
    "                    data[iterator,j,n,k] = value[j,n,k]\n",
    "                    #print(value[j,n,k])\n",
    "        iterator += 1\n",
    "        \n",
    "labels = np.zeros((count,1))\n",
    "boundary = np.zeros((count,4))\n",
    "\n",
    "iterator = 0\n",
    "\n",
    "for i in range(len(train_Examples)):\n",
    "    x = train_Examples[i]\n",
    "    row,column,rgb = x.shape\n",
    "    \n",
    "    if row < 101 and column < 101:\n",
    "        labels[iterator,0] = train_labels[i]\n",
    "        boundary[iterator, 0] = int(train_boundary[i,0])/100 #divide by 100 to put it in range of the sigmoid function\n",
    "        boundary[iterator, 1] = int(train_boundary[i,1])/100\n",
    "        boundary[iterator, 2] = int(train_boundary[i,2])/100\n",
    "        boundary[iterator, 3] = int(train_boundary[i,3])/100\n",
    "        iterator += 1\n",
    "        \n",
    "n_classes = 43\n",
    "\n",
    "denseTestData = data.reshape(count, 100*100*3).astype('float32')\n",
    "\n",
    "categoricalLabels = keras.utils.to_categorical(labels, n_classes)"
   ]
  },
  {
   "cell_type": "code",
   "execution_count": 18,
   "metadata": {},
   "outputs": [],
   "source": [
    "#Load models\n",
    "DenseBB = keras.models.load_model('C:/Users/frank/Documents/AI Project/DenseModelBB.h5')\n",
    "DenseClassifier = keras.models.load_model('C:/Users/frank/Documents/AI Project/DenseModel.h5')\n",
    "convBB = keras.models.load_model('C:/Users/frank/Documents/AI Project/convBB.h5')\n",
    "convClassifier = keras.models.load_model('C:/Users/frank/Documents/AI Project/convModel.h5')\n",
    "\n",
    "DenseBB.trainable = False\n",
    "DenseClassifier.trainable = False\n",
    "convBB.trainable = False\n",
    "convClassifier.trainable = False"
   ]
  },
  {
   "cell_type": "code",
   "execution_count": 6,
   "metadata": {},
   "outputs": [
    {
     "name": "stdout",
     "output_type": "stream",
     "text": [
      "374/374 [==============================] - 1s 3ms/step - loss: 4.9263e-04 - mean_squared_error: 4.9263e-04\n"
     ]
    },
    {
     "data": {
      "text/plain": [
       "[0.0004926330293528736, 0.0004926330293528736]"
      ]
     },
     "execution_count": 6,
     "metadata": {},
     "output_type": "execute_result"
    }
   ],
   "source": [
    "#Evaluate Dense Model Bounding Box\n",
    "DenseBB.evaluate(denseTestData, boundary)"
   ]
  },
  {
   "cell_type": "code",
   "execution_count": 16,
   "metadata": {},
   "outputs": [
    {
     "name": "stdout",
     "output_type": "stream",
     "text": [
      "374/374 [==============================] - 17s 46ms/step - loss: 0.9867 - accuracy: 0.8940\n"
     ]
    },
    {
     "data": {
      "text/plain": [
       "[0.986700177192688, 0.8940231204032898]"
      ]
     },
     "execution_count": 16,
     "metadata": {},
     "output_type": "execute_result"
    }
   ],
   "source": [
    "convBB.evaluate(data,boundary)"
   ]
  },
  {
   "cell_type": "code",
   "execution_count": 14,
   "metadata": {},
   "outputs": [],
   "source": [
    "def BoundingBoxAccuracy(pred, grTruth):\n",
    "    if len(pred) != len(grTruth):\n",
    "        return \"Arrays must be the same length!\"\n",
    "    \n",
    "    total = 0\n",
    "    length = len(pred)\n",
    "    wrong = 0\n",
    "    correct = 0\n",
    "    total = len(pred)\n",
    "    wrong_array = []\n",
    "    \n",
    "    for i in range(length):\n",
    "        pred[i] = pred[i] * 100\n",
    "        grTruth[i] = grTruth[i] * 100\n",
    "    \n",
    "    \n",
    "    for i in range(length):\n",
    "        absoluteDifference = abs(grTruth[i][0] - pred[i][0]) + abs(grTruth[i][1] - pred[i][1]) + abs(grTruth[i][2] - pred[i][2]) + abs(grTruth[i][3] - pred[i][3])\n",
    "        maxSingleDif = max(abs(grTruth[i][0] - pred[i][0]), abs(grTruth[i][1] - pred[i][1]), abs(grTruth[i][2] - pred[i][2]), abs(grTruth[i][3] - pred[i][3]))\n",
    "        \n",
    "        if absoluteDifference > 32 or maxSingleDif > 10:\n",
    "            wrong += 1\n",
    "            wrong_array.append(i)\n",
    "        else:\n",
    "            correct += 1\n",
    "    \n",
    "    accuracy = (correct/total) * 100\n",
    "    \n",
    "    for i in range(length):\n",
    "        grTruth[i] = grTruth[i] / 100\n",
    "    \n",
    "    print('Total wrong: ', wrong)\n",
    "    print('Total correct: ', correct)\n",
    "    print('Accuracy: ', accuracy, '%')\n",
    "    \n",
    "    #return wrong_array\n",
    "    "
   ]
  },
  {
   "cell_type": "code",
   "execution_count": 15,
   "metadata": {},
   "outputs": [
    {
     "name": "stdout",
     "output_type": "stream",
     "text": [
      "Dense Model Bounding Box Results: \n",
      "Total wrong:  170\n",
      "Total correct:  11776\n",
      "Accuracy:  98.57692951615603 %\n",
      "CNN Model Bounding Box Results: \n",
      "Total wrong:  11878\n",
      "Total correct:  68\n",
      "Accuracy:  0.5692281935375858 %\n"
     ]
    }
   ],
   "source": [
    "#Evaluate the Bounding Box predictions\n",
    "DenseBBPrediction = DenseBB.predict(denseTestData)\n",
    "CNNBBPrediction = convBB.predict(data)\n",
    "\n",
    "print(\"Dense Model Bounding Box Results: \")\n",
    "denseModelBBResults = BoundingBoxAccuracy(DenseBBPrediction, boundary)\n",
    "\n",
    "print(\"CNN Model Bounding Box Results: \")\n",
    "CNNModelBBResults = BoundingBoxAccuracy(CNNBBPrediction, boundary)"
   ]
  },
  {
   "cell_type": "code",
   "execution_count": 19,
   "metadata": {},
   "outputs": [
    {
     "name": "stdout",
     "output_type": "stream",
     "text": [
      "374/374 [==============================] - 1s 3ms/step - loss: 2.5545 - accuracy: 0.6351\n"
     ]
    },
    {
     "data": {
      "text/plain": [
       "<matplotlib.image.AxesImage at 0x25a89665730>"
      ]
     },
     "execution_count": 19,
     "metadata": {},
     "output_type": "execute_result"
    },
    {
     "data": {
      "image/png": "[encoded data removed]",
      "text/plain": [
       "<Figure size 288x288 with 1 Axes>"
      ]
     },
     "metadata": {
      "needs_background": "light"
     },
     "output_type": "display_data"
    }
   ],
   "source": [
    "#Evaluate Dense Model Classifier\n",
    "DenseClassifier.evaluate(denseTestData, categoricalLabels)\n",
    "densePredicted = DenseClassifier.predict(denseTestData)\n",
    "densePredicted = np.argmax(densePredicted, axis=1)\n",
    "densePredicted = densePredicted.tolist()\n",
    "matrix = confusion_matrix(labels,densePredicted)\n",
    "matshow(matrix)"
   ]
  },
  {
   "cell_type": "code",
   "execution_count": 9,
   "metadata": {},
   "outputs": [
    {
     "name": "stdout",
     "output_type": "stream",
     "text": [
      "374/374 [==============================] - 17s 46ms/step - loss: 0.2945 - accuracy: 0.9295\n"
     ]
    },
    {
     "data": {
      "text/plain": [
       "<matplotlib.image.AxesImage at 0x25a85ddc940>"
      ]
     },
     "execution_count": 9,
     "metadata": {},
     "output_type": "execute_result"
    },
    {
     "data": {
      "image/png": "[encoded data removed]",
      "text/plain": [
       "<Figure size 288x288 with 1 Axes>"
      ]
     },
     "metadata": {
      "needs_background": "light"
     },
     "output_type": "display_data"
    }
   ],
   "source": [
    "#Evaluate CNN Model Classifier\n",
    "convClassifier.evaluate(data, categoricalLabels)\n",
    "CNNPredicted = convClassifier.predict(data)\n",
    "CNNPredicted = np.argmax(CNNPredicted, axis=1)\n",
    "CNNPredicted = CNNPredicted.tolist()\n",
    "matrix = confusion_matrix(labels,CNNPredicted)\n",
    "matshow(matrix)"
   ]
  },
  {
   "cell_type": "code",
   "execution_count": 10,
   "metadata": {},
   "outputs": [
    {
     "name": "stdout",
     "output_type": "stream",
     "text": [
      "              precision    recall  f1-score   support\n",
      "\n",
      "         0.0       0.00      0.00      0.00         0\n",
      "         1.0       0.32      0.65      0.43       341\n",
      "         2.0       0.44      0.42      0.43       746\n",
      "         3.0       0.50      0.40      0.44       550\n",
      "         4.0       0.65      0.44      0.52       964\n",
      "         5.0       0.15      0.34      0.21       283\n",
      "         6.0       0.62      0.79      0.70       117\n",
      "         7.0       0.27      0.74      0.39       160\n",
      "         8.0       0.45      0.37      0.41       538\n",
      "         9.0       0.61      0.56      0.58       511\n",
      "        10.0       0.75      0.78      0.76       617\n",
      "        11.0       0.43      0.65      0.52       248\n",
      "        12.0       0.84      0.84      0.84       631\n",
      "        13.0       0.92      0.73      0.82       794\n",
      "        14.0       0.56      0.77      0.65       165\n",
      "        15.0       0.54      0.38      0.44       284\n",
      "        16.0       0.37      0.92      0.53        61\n",
      "        17.0       0.80      0.66      0.72       429\n",
      "        18.0       0.35      0.29      0.31       427\n",
      "        19.0       0.00      0.00      0.00         9\n",
      "        20.0       0.03      0.02      0.02       175\n",
      "        21.0       0.19      0.38      0.25        40\n",
      "        22.0       0.56      0.29      0.38       224\n",
      "        23.0       0.14      0.24      0.18        78\n",
      "        24.0       0.04      0.07      0.05        42\n",
      "        25.0       0.46      0.35      0.40       547\n",
      "        26.0       0.75      0.29      0.42       430\n",
      "        27.0       0.14      0.12      0.13        34\n",
      "        28.0       0.20      0.15      0.17       179\n",
      "        29.0       0.00      0.00      0.00        14\n",
      "        30.0       0.01      0.03      0.01        37\n",
      "        31.0       0.50      0.49      0.50       268\n",
      "        32.0       0.98      0.58      0.73       102\n",
      "        33.0       0.48      0.63      0.54       152\n",
      "        34.0       0.03      0.16      0.04        19\n",
      "        35.0       0.30      0.77      0.43       150\n",
      "        36.0       0.13      0.11      0.12       125\n",
      "        37.0       0.10      0.33      0.16        18\n",
      "        38.0       0.92      0.51      0.66      1200\n",
      "        39.0       0.58      0.34      0.43       143\n",
      "        40.0       0.14      0.44      0.21        25\n",
      "        41.0       0.34      0.47      0.39        43\n",
      "        42.0       0.30      1.00      0.46        26\n",
      "\n",
      "    accuracy                           0.50     11946\n",
      "   macro avg       0.39      0.43      0.38     11946\n",
      "weighted avg       0.58      0.50      0.52     11946\n",
      "\n",
      "              precision    recall  f1-score   support\n",
      "\n",
      "           0       0.91      0.98      0.95        54\n",
      "           1       0.98      0.87      0.92       776\n",
      "           2       0.94      0.94      0.94       720\n",
      "           3       0.86      0.98      0.91       387\n",
      "           4       0.98      0.97      0.97       650\n",
      "           5       0.95      0.89      0.92       664\n",
      "           6       0.99      0.79      0.88       188\n",
      "           7       0.98      0.95      0.97       460\n",
      "           8       0.89      0.97      0.93       404\n",
      "           9       0.94      1.00      0.97       442\n",
      "          10       0.99      1.00      0.99       639\n",
      "          11       0.97      0.81      0.88       450\n",
      "          12       0.90      0.98      0.94       581\n",
      "          13       0.98      0.98      0.98       634\n",
      "          14       1.00      0.93      0.96       240\n",
      "          15       0.96      1.00      0.98       193\n",
      "          16       0.99      0.99      0.99       150\n",
      "          17       0.82      1.00      0.90       293\n",
      "          18       0.88      0.92      0.90       343\n",
      "          19       0.80      0.96      0.87        46\n",
      "          20       0.97      0.91      0.94        92\n",
      "          21       0.72      0.58      0.64        99\n",
      "          22       0.76      0.99      0.86        89\n",
      "          23       0.96      0.95      0.95       135\n",
      "          24       0.96      0.86      0.91        78\n",
      "          25       0.88      0.95      0.91       384\n",
      "          26       0.98      0.97      0.98       169\n",
      "          27       1.00      0.47      0.64        62\n",
      "          28       0.98      0.71      0.83       182\n",
      "          29       0.53      0.91      0.67        47\n",
      "          30       0.74      0.92      0.82       121\n",
      "          31       0.97      0.95      0.96       263\n",
      "          32       0.97      0.91      0.94        64\n",
      "          33       0.95      0.84      0.89       229\n",
      "          34       1.00      0.95      0.97       123\n",
      "          35       0.96      0.95      0.95       388\n",
      "          36       0.97      0.88      0.93       119\n",
      "          37       0.98      0.89      0.94        65\n",
      "          38       0.90      0.99      0.94       603\n",
      "          39       0.89      0.93      0.91        82\n",
      "          40       0.88      0.60      0.71       119\n",
      "          41       0.90      0.93      0.91        57\n",
      "          42       0.66      0.94      0.77        62\n",
      "\n",
      "    accuracy                           0.93     11946\n",
      "   macro avg       0.91      0.90      0.90     11946\n",
      "weighted avg       0.93      0.93      0.93     11946\n",
      "\n"
     ]
    },
    {
     "name": "stderr",
     "output_type": "stream",
     "text": [
      "C:\\Users\\frank\\anaconda3\\lib\\site-packages\\sklearn\\metrics\\_classification.py:1221: UndefinedMetricWarning: Recall and F-score are ill-defined and being set to 0.0 in labels with no true samples. Use `zero_division` parameter to control this behavior.\n",
      "  _warn_prf(average, modifier, msg_start, len(result))\n"
     ]
    }
   ],
   "source": [
    "print(classification_report(densePredicted, labels))\n",
    "print(classification_report(CNNPredicted, labels))"
   ]
  },
  {
   "cell_type": "code",
   "execution_count": 11,
   "metadata": {},
   "outputs": [],
   "source": [
    "def BoundingBoxPrediction(values, n):\n",
    "    \n",
    "    shapedValues = values.reshape(len(values), 100*100*3).astype('float32')\n",
    "    \n",
    "\n",
    "    BB = DenseBB.predict(shapedValues)\n",
    "    #BB = convBB.predict(values)\n",
    "    \n",
    "    x1,y1,x2,y2=BB[n-1][0], BB[n-1][1], BB[n-1][2], BB[n-1][3],\n",
    "    \n",
    "    print(x1,y1,x2,y2)\n",
    "    \n",
    "    fig,ax = plt.subplots(1)\n",
    "\n",
    "    img = data[n-1][:][:][:][:]\n",
    "    \n",
    "    ax.imshow(img)\n",
    "\n",
    "    rect = Rectangle((x1*100,y1*100),(x2*100)-(x1*100),(y2*100)-(y1*100),linewidth=1,edgecolor='r',facecolor='none')\n",
    "    \n",
    "    ax.add_patch(rect)\n",
    "\n",
    "    #plt.savefig('C:/Users/frank/Documents/AI Project/Figures/3500Correct.png')\n",
    "    \n",
    "    plt.show"
   ]
  },
  {
   "cell_type": "code",
   "execution_count": null,
   "metadata": {},
   "outputs": [],
   "source": [
    "\n",
    "\n",
    "\n",
    "\n",
    "\n",
    "\n",
    "\n",
    "\n",
    "\n",
    "\n",
    "\n",
    "\n",
    "\n",
    "\n",
    "\n",
    "\n",
    "\n",
    "\n",
    "\n",
    "\n",
    "\n",
    "\n",
    "\n",
    "\n",
    "\n",
    "\n",
    "\n",
    "\n",
    "\n",
    "\n",
    "\n",
    "\n",
    "\n",
    "\n",
    "\n",
    "\n",
    "\n",
    "\n",
    "\n",
    "\n",
    "\n",
    "\n",
    "\n",
    "\n",
    "\n",
    "\n",
    "\n",
    "\n",
    "\n",
    "\n",
    "\n",
    "\n",
    "\n"
   ]
  },
  {
   "cell_type": "code",
   "execution_count": 26,
   "metadata": {},
   "outputs": [
    {
     "name": "stdout",
     "output_type": "stream",
     "text": [
      "0.054273635 0.05426708 0.35474873 0.35456997\n"
     ]
    },
    {
     "data": {
      "image/png": "[encoded data removed]",
      "text/plain": [
       "<Figure size 432x288 with 1 Axes>"
      ]
     },
     "metadata": {
      "needs_background": "light"
     },
     "output_type": "display_data"
    }
   ],
   "source": [
    "BoundingBoxPrediction(data,350)"
   ]
  },
  {
   "cell_type": "code",
   "execution_count": 24,
   "metadata": {},
   "outputs": [
    {
     "name": "stdout",
     "output_type": "stream",
     "text": [
      "0.05361095 0.053600222 0.3411455 0.34320366\n"
     ]
    },
    {
     "data": {
      "image/png": "[encoded data removed]",
      "text/plain": [
       "<Figure size 432x288 with 1 Axes>"
      ]
     },
     "metadata": {
      "needs_background": "light"
     },
     "output_type": "display_data"
    }
   ],
   "source": [
    "BoundingBoxPrediction(data,10000)"
   ]
  },
  {
   "cell_type": "code",
   "execution_count": 25,
   "metadata": {},
   "outputs": [
    {
     "name": "stdout",
     "output_type": "stream",
     "text": [
      "0.05554554 0.05504158 0.4481545 0.4395896\n"
     ]
    },
    {
     "data": {
      "image/png": "[encoded data removed]",
      "text/plain": [
       "<Figure size 432x288 with 1 Axes>"
      ]
     },
     "metadata": {
      "needs_background": "light"
     },
     "output_type": "display_data"
    }
   ],
   "source": [
    "BoundingBoxPrediction(data,8000)"
   ]
  },
  {
   "cell_type": "code",
   "execution_count": null,
   "metadata": {},
   "outputs": [],
   "source": [
    "\n",
    "\n",
    "\n",
    "\n",
    "\n",
    "\n",
    "\n",
    "\n",
    "\n",
    "\n",
    "\n",
    "\n",
    "\n",
    "\n",
    "\n",
    "\n",
    "\n",
    "\n",
    "\n",
    "\n",
    "\n",
    "\n",
    "\n",
    "\n",
    "\n",
    "\n",
    "\n",
    "\n",
    "\n",
    "\n",
    "\n",
    "\n"
   ]
  }
 ],
 "metadata": {
  "kernelspec": {
   "display_name": "Python 3",
   "language": "python",
   "name": "python3"
  },
  "language_info": {
   "codemirror_mode": {
    "name": "ipython",
    "version": 3
   },
   "file_extension": ".py",
   "mimetype": "text/x-python",
   "name": "python",
   "nbconvert_exporter": "python",
   "pygments_lexer": "ipython3",
   "version": "3.8.0"
  }
 },
 "nbformat": 4,
 "nbformat_minor": 4
}
